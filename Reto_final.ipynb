{
  "nbformat": 4,
  "nbformat_minor": 0,
  "metadata": {
    "colab": {
      "provenance": [],
      "collapsed_sections": [],
      "include_colab_link": true
    },
    "kernelspec": {
      "name": "python3",
      "display_name": "Python 3"
    },
    "language_info": {
      "name": "python"
    },
    "gpuClass": "standard"
  },
  "cells": [
    {
      "cell_type": "markdown",
      "metadata": {
        "id": "view-in-github",
        "colab_type": "text"
      },
      "source": [
        "<a href=\"https://colab.research.google.com/github/rodrigorhp/Reto-Topolog-a-g.400-eq3/blob/main/Reto_final.ipynb\" target=\"_parent\"><img src=\"https://colab.research.google.com/assets/colab-badge.svg\" alt=\"Open In Colab\"/></a>"
      ]
    },
    {
      "cell_type": "code",
      "execution_count": null,
      "metadata": {
        "id": "loZqICYhvZUM"
      },
      "outputs": [],
      "source": [
        "import pandas as pd\n",
        "import numpy as np\n",
        "from datetime import datetime\n",
        "import matplotlib.pyplot as plt\n",
        "import seaborn as sns\n",
        "from sklearn.metrics import confusion_matrix\n",
        "from sklearn import metrics"
      ]
    },
    {
      "cell_type": "code",
      "source": [
        "from google.colab import drive\n",
        "drive.mount('/content/drive')"
      ],
      "metadata": {
        "colab": {
          "base_uri": "https://localhost:8080/"
        },
        "id": "KOyBfCbLv93C",
        "outputId": "fce6d978-10e7-403e-85a3-e325fb7b8336"
      },
      "execution_count": null,
      "outputs": [
        {
          "output_type": "stream",
          "name": "stdout",
          "text": [
            "Drive already mounted at /content/drive; to attempt to forcibly remount, call drive.mount(\"/content/drive\", force_remount=True).\n"
          ]
        }
      ]
    },
    {
      "cell_type": "markdown",
      "source": [
        "# Train y Validation"
      ],
      "metadata": {
        "id": "nkQ9pHStZXpz"
      }
    },
    {
      "cell_type": "code",
      "source": [
        "df_train = pd.read_csv('/content/drive/MyDrive/Inteligencia Artificial Avanzada/Reto Titanic/train.csv')\n",
        "df_test = pd.read_csv('/content/drive/MyDrive/Inteligencia Artificial Avanzada/Reto Titanic/test.csv')\n",
        "df_val = pd.read_csv('/content/drive/MyDrive/Inteligencia Artificial Avanzada/Reto Titanic/gender_submission.csv')"
      ],
      "metadata": {
        "id": "Lb9_H3gL_arx"
      },
      "execution_count": null,
      "outputs": []
    },
    {
      "cell_type": "code",
      "source": [
        "df_train.head()"
      ],
      "metadata": {
        "colab": {
          "base_uri": "https://localhost:8080/",
          "height": 206
        },
        "id": "ksFhHeAb_j6S",
        "outputId": "80245c2b-a926-4e38-b34c-727d2b89b076"
      },
      "execution_count": null,
      "outputs": [
        {
          "output_type": "execute_result",
          "data": {
            "text/plain": [
              "   PassengerId  Survived  Pclass  \\\n",
              "0            1         0       3   \n",
              "1            2         1       1   \n",
              "2            3         1       3   \n",
              "3            4         1       1   \n",
              "4            5         0       3   \n",
              "\n",
              "                                                Name     Sex   Age  SibSp  \\\n",
              "0                            Braund, Mr. Owen Harris    male  22.0      1   \n",
              "1  Cumings, Mrs. John Bradley (Florence Briggs Th...  female  38.0      1   \n",
              "2                             Heikkinen, Miss. Laina  female  26.0      0   \n",
              "3       Futrelle, Mrs. Jacques Heath (Lily May Peel)  female  35.0      1   \n",
              "4                           Allen, Mr. William Henry    male  35.0      0   \n",
              "\n",
              "   Parch            Ticket     Fare Cabin Embarked  \n",
              "0      0         A/5 21171   7.2500   NaN        S  \n",
              "1      0          PC 17599  71.2833   C85        C  \n",
              "2      0  STON/O2. 3101282   7.9250   NaN        S  \n",
              "3      0            113803  53.1000  C123        S  \n",
              "4      0            373450   8.0500   NaN        S  "
            ],
            "text/html": [
              "\n",
              "  <div id=\"df-0023a273-3a0a-4e36-b0ee-64ba555ec876\">\n",
              "    <div class=\"colab-df-container\">\n",
              "      <div>\n",
              "<style scoped>\n",
              "    .dataframe tbody tr th:only-of-type {\n",
              "        vertical-align: middle;\n",
              "    }\n",
              "\n",
              "    .dataframe tbody tr th {\n",
              "        vertical-align: top;\n",
              "    }\n",
              "\n",
              "    .dataframe thead th {\n",
              "        text-align: right;\n",
              "    }\n",
              "</style>\n",
              "<table border=\"1\" class=\"dataframe\">\n",
              "  <thead>\n",
              "    <tr style=\"text-align: right;\">\n",
              "      <th></th>\n",
              "      <th>PassengerId</th>\n",
              "      <th>Survived</th>\n",
              "      <th>Pclass</th>\n",
              "      <th>Name</th>\n",
              "      <th>Sex</th>\n",
              "      <th>Age</th>\n",
              "      <th>SibSp</th>\n",
              "      <th>Parch</th>\n",
              "      <th>Ticket</th>\n",
              "      <th>Fare</th>\n",
              "      <th>Cabin</th>\n",
              "      <th>Embarked</th>\n",
              "    </tr>\n",
              "  </thead>\n",
              "  <tbody>\n",
              "    <tr>\n",
              "      <th>0</th>\n",
              "      <td>1</td>\n",
              "      <td>0</td>\n",
              "      <td>3</td>\n",
              "      <td>Braund, Mr. Owen Harris</td>\n",
              "      <td>male</td>\n",
              "      <td>22.0</td>\n",
              "      <td>1</td>\n",
              "      <td>0</td>\n",
              "      <td>A/5 21171</td>\n",
              "      <td>7.2500</td>\n",
              "      <td>NaN</td>\n",
              "      <td>S</td>\n",
              "    </tr>\n",
              "    <tr>\n",
              "      <th>1</th>\n",
              "      <td>2</td>\n",
              "      <td>1</td>\n",
              "      <td>1</td>\n",
              "      <td>Cumings, Mrs. John Bradley (Florence Briggs Th...</td>\n",
              "      <td>female</td>\n",
              "      <td>38.0</td>\n",
              "      <td>1</td>\n",
              "      <td>0</td>\n",
              "      <td>PC 17599</td>\n",
              "      <td>71.2833</td>\n",
              "      <td>C85</td>\n",
              "      <td>C</td>\n",
              "    </tr>\n",
              "    <tr>\n",
              "      <th>2</th>\n",
              "      <td>3</td>\n",
              "      <td>1</td>\n",
              "      <td>3</td>\n",
              "      <td>Heikkinen, Miss. Laina</td>\n",
              "      <td>female</td>\n",
              "      <td>26.0</td>\n",
              "      <td>0</td>\n",
              "      <td>0</td>\n",
              "      <td>STON/O2. 3101282</td>\n",
              "      <td>7.9250</td>\n",
              "      <td>NaN</td>\n",
              "      <td>S</td>\n",
              "    </tr>\n",
              "    <tr>\n",
              "      <th>3</th>\n",
              "      <td>4</td>\n",
              "      <td>1</td>\n",
              "      <td>1</td>\n",
              "      <td>Futrelle, Mrs. Jacques Heath (Lily May Peel)</td>\n",
              "      <td>female</td>\n",
              "      <td>35.0</td>\n",
              "      <td>1</td>\n",
              "      <td>0</td>\n",
              "      <td>113803</td>\n",
              "      <td>53.1000</td>\n",
              "      <td>C123</td>\n",
              "      <td>S</td>\n",
              "    </tr>\n",
              "    <tr>\n",
              "      <th>4</th>\n",
              "      <td>5</td>\n",
              "      <td>0</td>\n",
              "      <td>3</td>\n",
              "      <td>Allen, Mr. William Henry</td>\n",
              "      <td>male</td>\n",
              "      <td>35.0</td>\n",
              "      <td>0</td>\n",
              "      <td>0</td>\n",
              "      <td>373450</td>\n",
              "      <td>8.0500</td>\n",
              "      <td>NaN</td>\n",
              "      <td>S</td>\n",
              "    </tr>\n",
              "  </tbody>\n",
              "</table>\n",
              "</div>\n",
              "      <button class=\"colab-df-convert\" onclick=\"convertToInteractive('df-0023a273-3a0a-4e36-b0ee-64ba555ec876')\"\n",
              "              title=\"Convert this dataframe to an interactive table.\"\n",
              "              style=\"display:none;\">\n",
              "        \n",
              "  <svg xmlns=\"http://www.w3.org/2000/svg\" height=\"24px\"viewBox=\"0 0 24 24\"\n",
              "       width=\"24px\">\n",
              "    <path d=\"M0 0h24v24H0V0z\" fill=\"none\"/>\n",
              "    <path d=\"M18.56 5.44l.94 2.06.94-2.06 2.06-.94-2.06-.94-.94-2.06-.94 2.06-2.06.94zm-11 1L8.5 8.5l.94-2.06 2.06-.94-2.06-.94L8.5 2.5l-.94 2.06-2.06.94zm10 10l.94 2.06.94-2.06 2.06-.94-2.06-.94-.94-2.06-.94 2.06-2.06.94z\"/><path d=\"M17.41 7.96l-1.37-1.37c-.4-.4-.92-.59-1.43-.59-.52 0-1.04.2-1.43.59L10.3 9.45l-7.72 7.72c-.78.78-.78 2.05 0 2.83L4 21.41c.39.39.9.59 1.41.59.51 0 1.02-.2 1.41-.59l7.78-7.78 2.81-2.81c.8-.78.8-2.07 0-2.86zM5.41 20L4 18.59l7.72-7.72 1.47 1.35L5.41 20z\"/>\n",
              "  </svg>\n",
              "      </button>\n",
              "      \n",
              "  <style>\n",
              "    .colab-df-container {\n",
              "      display:flex;\n",
              "      flex-wrap:wrap;\n",
              "      gap: 12px;\n",
              "    }\n",
              "\n",
              "    .colab-df-convert {\n",
              "      background-color: #E8F0FE;\n",
              "      border: none;\n",
              "      border-radius: 50%;\n",
              "      cursor: pointer;\n",
              "      display: none;\n",
              "      fill: #1967D2;\n",
              "      height: 32px;\n",
              "      padding: 0 0 0 0;\n",
              "      width: 32px;\n",
              "    }\n",
              "\n",
              "    .colab-df-convert:hover {\n",
              "      background-color: #E2EBFA;\n",
              "      box-shadow: 0px 1px 2px rgba(60, 64, 67, 0.3), 0px 1px 3px 1px rgba(60, 64, 67, 0.15);\n",
              "      fill: #174EA6;\n",
              "    }\n",
              "\n",
              "    [theme=dark] .colab-df-convert {\n",
              "      background-color: #3B4455;\n",
              "      fill: #D2E3FC;\n",
              "    }\n",
              "\n",
              "    [theme=dark] .colab-df-convert:hover {\n",
              "      background-color: #434B5C;\n",
              "      box-shadow: 0px 1px 3px 1px rgba(0, 0, 0, 0.15);\n",
              "      filter: drop-shadow(0px 1px 2px rgba(0, 0, 0, 0.3));\n",
              "      fill: #FFFFFF;\n",
              "    }\n",
              "  </style>\n",
              "\n",
              "      <script>\n",
              "        const buttonEl =\n",
              "          document.querySelector('#df-0023a273-3a0a-4e36-b0ee-64ba555ec876 button.colab-df-convert');\n",
              "        buttonEl.style.display =\n",
              "          google.colab.kernel.accessAllowed ? 'block' : 'none';\n",
              "\n",
              "        async function convertToInteractive(key) {\n",
              "          const element = document.querySelector('#df-0023a273-3a0a-4e36-b0ee-64ba555ec876');\n",
              "          const dataTable =\n",
              "            await google.colab.kernel.invokeFunction('convertToInteractive',\n",
              "                                                     [key], {});\n",
              "          if (!dataTable) return;\n",
              "\n",
              "          const docLinkHtml = 'Like what you see? Visit the ' +\n",
              "            '<a target=\"_blank\" href=https://colab.research.google.com/notebooks/data_table.ipynb>data table notebook</a>'\n",
              "            + ' to learn more about interactive tables.';\n",
              "          element.innerHTML = '';\n",
              "          dataTable['output_type'] = 'display_data';\n",
              "          await google.colab.output.renderOutput(dataTable, element);\n",
              "          const docLink = document.createElement('div');\n",
              "          docLink.innerHTML = docLinkHtml;\n",
              "          element.appendChild(docLink);\n",
              "        }\n",
              "      </script>\n",
              "    </div>\n",
              "  </div>\n",
              "  "
            ]
          },
          "metadata": {},
          "execution_count": 4
        }
      ]
    },
    {
      "cell_type": "code",
      "source": [
        "df_test['Survived'] = df_val['Survived']"
      ],
      "metadata": {
        "id": "aOwvYXAv8Qa2"
      },
      "execution_count": null,
      "outputs": []
    },
    {
      "cell_type": "code",
      "source": [
        "df_test.head(2)"
      ],
      "metadata": {
        "colab": {
          "base_uri": "https://localhost:8080/",
          "height": 112
        },
        "id": "TkFEiqYgPTBl",
        "outputId": "aec0c54f-45ee-478e-92e8-7617bc07eb41"
      },
      "execution_count": null,
      "outputs": [
        {
          "output_type": "execute_result",
          "data": {
            "text/plain": [
              "   PassengerId  Pclass                              Name     Sex   Age  SibSp  \\\n",
              "0          892       3                  Kelly, Mr. James    male  34.5      0   \n",
              "1          893       3  Wilkes, Mrs. James (Ellen Needs)  female  47.0      1   \n",
              "\n",
              "   Parch  Ticket    Fare Cabin Embarked  Survived  \n",
              "0      0  330911  7.8292   NaN        Q         0  \n",
              "1      0  363272  7.0000   NaN        S         1  "
            ],
            "text/html": [
              "\n",
              "  <div id=\"df-266de102-2aca-40a6-bc29-46da9151d62e\">\n",
              "    <div class=\"colab-df-container\">\n",
              "      <div>\n",
              "<style scoped>\n",
              "    .dataframe tbody tr th:only-of-type {\n",
              "        vertical-align: middle;\n",
              "    }\n",
              "\n",
              "    .dataframe tbody tr th {\n",
              "        vertical-align: top;\n",
              "    }\n",
              "\n",
              "    .dataframe thead th {\n",
              "        text-align: right;\n",
              "    }\n",
              "</style>\n",
              "<table border=\"1\" class=\"dataframe\">\n",
              "  <thead>\n",
              "    <tr style=\"text-align: right;\">\n",
              "      <th></th>\n",
              "      <th>PassengerId</th>\n",
              "      <th>Pclass</th>\n",
              "      <th>Name</th>\n",
              "      <th>Sex</th>\n",
              "      <th>Age</th>\n",
              "      <th>SibSp</th>\n",
              "      <th>Parch</th>\n",
              "      <th>Ticket</th>\n",
              "      <th>Fare</th>\n",
              "      <th>Cabin</th>\n",
              "      <th>Embarked</th>\n",
              "      <th>Survived</th>\n",
              "    </tr>\n",
              "  </thead>\n",
              "  <tbody>\n",
              "    <tr>\n",
              "      <th>0</th>\n",
              "      <td>892</td>\n",
              "      <td>3</td>\n",
              "      <td>Kelly, Mr. James</td>\n",
              "      <td>male</td>\n",
              "      <td>34.5</td>\n",
              "      <td>0</td>\n",
              "      <td>0</td>\n",
              "      <td>330911</td>\n",
              "      <td>7.8292</td>\n",
              "      <td>NaN</td>\n",
              "      <td>Q</td>\n",
              "      <td>0</td>\n",
              "    </tr>\n",
              "    <tr>\n",
              "      <th>1</th>\n",
              "      <td>893</td>\n",
              "      <td>3</td>\n",
              "      <td>Wilkes, Mrs. James (Ellen Needs)</td>\n",
              "      <td>female</td>\n",
              "      <td>47.0</td>\n",
              "      <td>1</td>\n",
              "      <td>0</td>\n",
              "      <td>363272</td>\n",
              "      <td>7.0000</td>\n",
              "      <td>NaN</td>\n",
              "      <td>S</td>\n",
              "      <td>1</td>\n",
              "    </tr>\n",
              "  </tbody>\n",
              "</table>\n",
              "</div>\n",
              "      <button class=\"colab-df-convert\" onclick=\"convertToInteractive('df-266de102-2aca-40a6-bc29-46da9151d62e')\"\n",
              "              title=\"Convert this dataframe to an interactive table.\"\n",
              "              style=\"display:none;\">\n",
              "        \n",
              "  <svg xmlns=\"http://www.w3.org/2000/svg\" height=\"24px\"viewBox=\"0 0 24 24\"\n",
              "       width=\"24px\">\n",
              "    <path d=\"M0 0h24v24H0V0z\" fill=\"none\"/>\n",
              "    <path d=\"M18.56 5.44l.94 2.06.94-2.06 2.06-.94-2.06-.94-.94-2.06-.94 2.06-2.06.94zm-11 1L8.5 8.5l.94-2.06 2.06-.94-2.06-.94L8.5 2.5l-.94 2.06-2.06.94zm10 10l.94 2.06.94-2.06 2.06-.94-2.06-.94-.94-2.06-.94 2.06-2.06.94z\"/><path d=\"M17.41 7.96l-1.37-1.37c-.4-.4-.92-.59-1.43-.59-.52 0-1.04.2-1.43.59L10.3 9.45l-7.72 7.72c-.78.78-.78 2.05 0 2.83L4 21.41c.39.39.9.59 1.41.59.51 0 1.02-.2 1.41-.59l7.78-7.78 2.81-2.81c.8-.78.8-2.07 0-2.86zM5.41 20L4 18.59l7.72-7.72 1.47 1.35L5.41 20z\"/>\n",
              "  </svg>\n",
              "      </button>\n",
              "      \n",
              "  <style>\n",
              "    .colab-df-container {\n",
              "      display:flex;\n",
              "      flex-wrap:wrap;\n",
              "      gap: 12px;\n",
              "    }\n",
              "\n",
              "    .colab-df-convert {\n",
              "      background-color: #E8F0FE;\n",
              "      border: none;\n",
              "      border-radius: 50%;\n",
              "      cursor: pointer;\n",
              "      display: none;\n",
              "      fill: #1967D2;\n",
              "      height: 32px;\n",
              "      padding: 0 0 0 0;\n",
              "      width: 32px;\n",
              "    }\n",
              "\n",
              "    .colab-df-convert:hover {\n",
              "      background-color: #E2EBFA;\n",
              "      box-shadow: 0px 1px 2px rgba(60, 64, 67, 0.3), 0px 1px 3px 1px rgba(60, 64, 67, 0.15);\n",
              "      fill: #174EA6;\n",
              "    }\n",
              "\n",
              "    [theme=dark] .colab-df-convert {\n",
              "      background-color: #3B4455;\n",
              "      fill: #D2E3FC;\n",
              "    }\n",
              "\n",
              "    [theme=dark] .colab-df-convert:hover {\n",
              "      background-color: #434B5C;\n",
              "      box-shadow: 0px 1px 3px 1px rgba(0, 0, 0, 0.15);\n",
              "      filter: drop-shadow(0px 1px 2px rgba(0, 0, 0, 0.3));\n",
              "      fill: #FFFFFF;\n",
              "    }\n",
              "  </style>\n",
              "\n",
              "      <script>\n",
              "        const buttonEl =\n",
              "          document.querySelector('#df-266de102-2aca-40a6-bc29-46da9151d62e button.colab-df-convert');\n",
              "        buttonEl.style.display =\n",
              "          google.colab.kernel.accessAllowed ? 'block' : 'none';\n",
              "\n",
              "        async function convertToInteractive(key) {\n",
              "          const element = document.querySelector('#df-266de102-2aca-40a6-bc29-46da9151d62e');\n",
              "          const dataTable =\n",
              "            await google.colab.kernel.invokeFunction('convertToInteractive',\n",
              "                                                     [key], {});\n",
              "          if (!dataTable) return;\n",
              "\n",
              "          const docLinkHtml = 'Like what you see? Visit the ' +\n",
              "            '<a target=\"_blank\" href=https://colab.research.google.com/notebooks/data_table.ipynb>data table notebook</a>'\n",
              "            + ' to learn more about interactive tables.';\n",
              "          element.innerHTML = '';\n",
              "          dataTable['output_type'] = 'display_data';\n",
              "          await google.colab.output.renderOutput(dataTable, element);\n",
              "          const docLink = document.createElement('div');\n",
              "          docLink.innerHTML = docLinkHtml;\n",
              "          element.appendChild(docLink);\n",
              "        }\n",
              "      </script>\n",
              "    </div>\n",
              "  </div>\n",
              "  "
            ]
          },
          "metadata": {},
          "execution_count": 6
        }
      ]
    },
    {
      "cell_type": "code",
      "source": [
        "df_train = df_train[df_train['Embarked'].notna()]\n",
        "df_test = df_test[df_test['Embarked'].notna()]"
      ],
      "metadata": {
        "id": "yrv4kRRW_uQ_"
      },
      "execution_count": null,
      "outputs": []
    },
    {
      "cell_type": "code",
      "source": [
        "df_train=df_train.drop(['Cabin','Name','Ticket','PassengerId'],axis = 1)\n",
        "df_test=df_test.drop(['Cabin','Name','Ticket','PassengerId'],axis = 1)"
      ],
      "metadata": {
        "id": "n9h2TWxn_3Ha"
      },
      "execution_count": null,
      "outputs": []
    },
    {
      "cell_type": "code",
      "source": [
        "from sklearn import preprocessing\n",
        "leSex = preprocessing.LabelEncoder()\n",
        "leSex.fit(df_train['Sex'].unique().tolist())\n",
        "leEmb = preprocessing.LabelEncoder()\n",
        "leEmb.fit(df_train['Embarked'].unique().tolist())"
      ],
      "metadata": {
        "colab": {
          "base_uri": "https://localhost:8080/"
        },
        "id": "kAsg0-Gc_5nz",
        "outputId": "c569fc7e-7dc3-4b44-b8d1-8302163e3b43"
      },
      "execution_count": null,
      "outputs": [
        {
          "output_type": "execute_result",
          "data": {
            "text/plain": [
              "LabelEncoder()"
            ]
          },
          "metadata": {},
          "execution_count": 9
        }
      ]
    },
    {
      "cell_type": "code",
      "source": [
        "leSex_1 = preprocessing.LabelEncoder()\n",
        "leSex_1.fit(df_test['Sex'].unique().tolist())\n",
        "leEmb_1 = preprocessing.LabelEncoder()\n",
        "leEmb_1.fit(df_test['Embarked'].unique().tolist())"
      ],
      "metadata": {
        "colab": {
          "base_uri": "https://localhost:8080/"
        },
        "id": "7tDuwZeUQzq4",
        "outputId": "09af4a44-9224-49ea-b5bc-c4935d4a9dd3"
      },
      "execution_count": null,
      "outputs": [
        {
          "output_type": "execute_result",
          "data": {
            "text/plain": [
              "LabelEncoder()"
            ]
          },
          "metadata": {},
          "execution_count": 10
        }
      ]
    },
    {
      "cell_type": "code",
      "source": [
        "df_train['Sex'] = leSex.transform(df_train['Sex'])\n",
        "df_train['Embarked'] = leEmb.transform(df_train['Embarked'])"
      ],
      "metadata": {
        "id": "mvVmwbnsSZjR"
      },
      "execution_count": null,
      "outputs": []
    },
    {
      "cell_type": "code",
      "source": [
        "df_test['Sex'] = leSex_1.transform(df_test['Sex'])\n",
        "df_test['Embarked'] = leEmb_1.transform(df_test['Embarked'])"
      ],
      "metadata": {
        "id": "RjBrAYvWABmN"
      },
      "execution_count": null,
      "outputs": []
    },
    {
      "cell_type": "code",
      "source": [
        "df_train['Age'].fillna(df_train['Age'].median(),inplace = True)\n",
        "df_test['Age'].fillna(df_test['Age'].median(),inplace = True)"
      ],
      "metadata": {
        "id": "Nj1W2JscA-eL"
      },
      "execution_count": null,
      "outputs": []
    },
    {
      "cell_type": "code",
      "source": [
        "df_train.head(2)"
      ],
      "metadata": {
        "colab": {
          "base_uri": "https://localhost:8080/",
          "height": 112
        },
        "id": "56UvghYnTFUf",
        "outputId": "2a23dfb0-a923-4702-d245-bf2884d74b50"
      },
      "execution_count": null,
      "outputs": [
        {
          "output_type": "execute_result",
          "data": {
            "text/plain": [
              "   Survived  Pclass  Sex   Age  SibSp  Parch     Fare  Embarked\n",
              "0         0       3    1  22.0      1      0   7.2500         2\n",
              "1         1       1    0  38.0      1      0  71.2833         0"
            ],
            "text/html": [
              "\n",
              "  <div id=\"df-f9e95a60-7740-4886-ab1b-628745941431\">\n",
              "    <div class=\"colab-df-container\">\n",
              "      <div>\n",
              "<style scoped>\n",
              "    .dataframe tbody tr th:only-of-type {\n",
              "        vertical-align: middle;\n",
              "    }\n",
              "\n",
              "    .dataframe tbody tr th {\n",
              "        vertical-align: top;\n",
              "    }\n",
              "\n",
              "    .dataframe thead th {\n",
              "        text-align: right;\n",
              "    }\n",
              "</style>\n",
              "<table border=\"1\" class=\"dataframe\">\n",
              "  <thead>\n",
              "    <tr style=\"text-align: right;\">\n",
              "      <th></th>\n",
              "      <th>Survived</th>\n",
              "      <th>Pclass</th>\n",
              "      <th>Sex</th>\n",
              "      <th>Age</th>\n",
              "      <th>SibSp</th>\n",
              "      <th>Parch</th>\n",
              "      <th>Fare</th>\n",
              "      <th>Embarked</th>\n",
              "    </tr>\n",
              "  </thead>\n",
              "  <tbody>\n",
              "    <tr>\n",
              "      <th>0</th>\n",
              "      <td>0</td>\n",
              "      <td>3</td>\n",
              "      <td>1</td>\n",
              "      <td>22.0</td>\n",
              "      <td>1</td>\n",
              "      <td>0</td>\n",
              "      <td>7.2500</td>\n",
              "      <td>2</td>\n",
              "    </tr>\n",
              "    <tr>\n",
              "      <th>1</th>\n",
              "      <td>1</td>\n",
              "      <td>1</td>\n",
              "      <td>0</td>\n",
              "      <td>38.0</td>\n",
              "      <td>1</td>\n",
              "      <td>0</td>\n",
              "      <td>71.2833</td>\n",
              "      <td>0</td>\n",
              "    </tr>\n",
              "  </tbody>\n",
              "</table>\n",
              "</div>\n",
              "      <button class=\"colab-df-convert\" onclick=\"convertToInteractive('df-f9e95a60-7740-4886-ab1b-628745941431')\"\n",
              "              title=\"Convert this dataframe to an interactive table.\"\n",
              "              style=\"display:none;\">\n",
              "        \n",
              "  <svg xmlns=\"http://www.w3.org/2000/svg\" height=\"24px\"viewBox=\"0 0 24 24\"\n",
              "       width=\"24px\">\n",
              "    <path d=\"M0 0h24v24H0V0z\" fill=\"none\"/>\n",
              "    <path d=\"M18.56 5.44l.94 2.06.94-2.06 2.06-.94-2.06-.94-.94-2.06-.94 2.06-2.06.94zm-11 1L8.5 8.5l.94-2.06 2.06-.94-2.06-.94L8.5 2.5l-.94 2.06-2.06.94zm10 10l.94 2.06.94-2.06 2.06-.94-2.06-.94-.94-2.06-.94 2.06-2.06.94z\"/><path d=\"M17.41 7.96l-1.37-1.37c-.4-.4-.92-.59-1.43-.59-.52 0-1.04.2-1.43.59L10.3 9.45l-7.72 7.72c-.78.78-.78 2.05 0 2.83L4 21.41c.39.39.9.59 1.41.59.51 0 1.02-.2 1.41-.59l7.78-7.78 2.81-2.81c.8-.78.8-2.07 0-2.86zM5.41 20L4 18.59l7.72-7.72 1.47 1.35L5.41 20z\"/>\n",
              "  </svg>\n",
              "      </button>\n",
              "      \n",
              "  <style>\n",
              "    .colab-df-container {\n",
              "      display:flex;\n",
              "      flex-wrap:wrap;\n",
              "      gap: 12px;\n",
              "    }\n",
              "\n",
              "    .colab-df-convert {\n",
              "      background-color: #E8F0FE;\n",
              "      border: none;\n",
              "      border-radius: 50%;\n",
              "      cursor: pointer;\n",
              "      display: none;\n",
              "      fill: #1967D2;\n",
              "      height: 32px;\n",
              "      padding: 0 0 0 0;\n",
              "      width: 32px;\n",
              "    }\n",
              "\n",
              "    .colab-df-convert:hover {\n",
              "      background-color: #E2EBFA;\n",
              "      box-shadow: 0px 1px 2px rgba(60, 64, 67, 0.3), 0px 1px 3px 1px rgba(60, 64, 67, 0.15);\n",
              "      fill: #174EA6;\n",
              "    }\n",
              "\n",
              "    [theme=dark] .colab-df-convert {\n",
              "      background-color: #3B4455;\n",
              "      fill: #D2E3FC;\n",
              "    }\n",
              "\n",
              "    [theme=dark] .colab-df-convert:hover {\n",
              "      background-color: #434B5C;\n",
              "      box-shadow: 0px 1px 3px 1px rgba(0, 0, 0, 0.15);\n",
              "      filter: drop-shadow(0px 1px 2px rgba(0, 0, 0, 0.3));\n",
              "      fill: #FFFFFF;\n",
              "    }\n",
              "  </style>\n",
              "\n",
              "      <script>\n",
              "        const buttonEl =\n",
              "          document.querySelector('#df-f9e95a60-7740-4886-ab1b-628745941431 button.colab-df-convert');\n",
              "        buttonEl.style.display =\n",
              "          google.colab.kernel.accessAllowed ? 'block' : 'none';\n",
              "\n",
              "        async function convertToInteractive(key) {\n",
              "          const element = document.querySelector('#df-f9e95a60-7740-4886-ab1b-628745941431');\n",
              "          const dataTable =\n",
              "            await google.colab.kernel.invokeFunction('convertToInteractive',\n",
              "                                                     [key], {});\n",
              "          if (!dataTable) return;\n",
              "\n",
              "          const docLinkHtml = 'Like what you see? Visit the ' +\n",
              "            '<a target=\"_blank\" href=https://colab.research.google.com/notebooks/data_table.ipynb>data table notebook</a>'\n",
              "            + ' to learn more about interactive tables.';\n",
              "          element.innerHTML = '';\n",
              "          dataTable['output_type'] = 'display_data';\n",
              "          await google.colab.output.renderOutput(dataTable, element);\n",
              "          const docLink = document.createElement('div');\n",
              "          docLink.innerHTML = docLinkHtml;\n",
              "          element.appendChild(docLink);\n",
              "        }\n",
              "      </script>\n",
              "    </div>\n",
              "  </div>\n",
              "  "
            ]
          },
          "metadata": {},
          "execution_count": 14
        }
      ]
    },
    {
      "cell_type": "code",
      "source": [
        "df_test.head(2)"
      ],
      "metadata": {
        "colab": {
          "base_uri": "https://localhost:8080/",
          "height": 112
        },
        "id": "TKwFXO02TJEr",
        "outputId": "811731ba-b0c9-4bc9-81f2-2ca2330b5f21"
      },
      "execution_count": null,
      "outputs": [
        {
          "output_type": "execute_result",
          "data": {
            "text/plain": [
              "   Pclass  Sex   Age  SibSp  Parch    Fare  Embarked  Survived\n",
              "0       3    1  34.5      0      0  7.8292         1         0\n",
              "1       3    0  47.0      1      0  7.0000         2         1"
            ],
            "text/html": [
              "\n",
              "  <div id=\"df-2fe6a139-b718-4576-b6e4-dd4600dc8b93\">\n",
              "    <div class=\"colab-df-container\">\n",
              "      <div>\n",
              "<style scoped>\n",
              "    .dataframe tbody tr th:only-of-type {\n",
              "        vertical-align: middle;\n",
              "    }\n",
              "\n",
              "    .dataframe tbody tr th {\n",
              "        vertical-align: top;\n",
              "    }\n",
              "\n",
              "    .dataframe thead th {\n",
              "        text-align: right;\n",
              "    }\n",
              "</style>\n",
              "<table border=\"1\" class=\"dataframe\">\n",
              "  <thead>\n",
              "    <tr style=\"text-align: right;\">\n",
              "      <th></th>\n",
              "      <th>Pclass</th>\n",
              "      <th>Sex</th>\n",
              "      <th>Age</th>\n",
              "      <th>SibSp</th>\n",
              "      <th>Parch</th>\n",
              "      <th>Fare</th>\n",
              "      <th>Embarked</th>\n",
              "      <th>Survived</th>\n",
              "    </tr>\n",
              "  </thead>\n",
              "  <tbody>\n",
              "    <tr>\n",
              "      <th>0</th>\n",
              "      <td>3</td>\n",
              "      <td>1</td>\n",
              "      <td>34.5</td>\n",
              "      <td>0</td>\n",
              "      <td>0</td>\n",
              "      <td>7.8292</td>\n",
              "      <td>1</td>\n",
              "      <td>0</td>\n",
              "    </tr>\n",
              "    <tr>\n",
              "      <th>1</th>\n",
              "      <td>3</td>\n",
              "      <td>0</td>\n",
              "      <td>47.0</td>\n",
              "      <td>1</td>\n",
              "      <td>0</td>\n",
              "      <td>7.0000</td>\n",
              "      <td>2</td>\n",
              "      <td>1</td>\n",
              "    </tr>\n",
              "  </tbody>\n",
              "</table>\n",
              "</div>\n",
              "      <button class=\"colab-df-convert\" onclick=\"convertToInteractive('df-2fe6a139-b718-4576-b6e4-dd4600dc8b93')\"\n",
              "              title=\"Convert this dataframe to an interactive table.\"\n",
              "              style=\"display:none;\">\n",
              "        \n",
              "  <svg xmlns=\"http://www.w3.org/2000/svg\" height=\"24px\"viewBox=\"0 0 24 24\"\n",
              "       width=\"24px\">\n",
              "    <path d=\"M0 0h24v24H0V0z\" fill=\"none\"/>\n",
              "    <path d=\"M18.56 5.44l.94 2.06.94-2.06 2.06-.94-2.06-.94-.94-2.06-.94 2.06-2.06.94zm-11 1L8.5 8.5l.94-2.06 2.06-.94-2.06-.94L8.5 2.5l-.94 2.06-2.06.94zm10 10l.94 2.06.94-2.06 2.06-.94-2.06-.94-.94-2.06-.94 2.06-2.06.94z\"/><path d=\"M17.41 7.96l-1.37-1.37c-.4-.4-.92-.59-1.43-.59-.52 0-1.04.2-1.43.59L10.3 9.45l-7.72 7.72c-.78.78-.78 2.05 0 2.83L4 21.41c.39.39.9.59 1.41.59.51 0 1.02-.2 1.41-.59l7.78-7.78 2.81-2.81c.8-.78.8-2.07 0-2.86zM5.41 20L4 18.59l7.72-7.72 1.47 1.35L5.41 20z\"/>\n",
              "  </svg>\n",
              "      </button>\n",
              "      \n",
              "  <style>\n",
              "    .colab-df-container {\n",
              "      display:flex;\n",
              "      flex-wrap:wrap;\n",
              "      gap: 12px;\n",
              "    }\n",
              "\n",
              "    .colab-df-convert {\n",
              "      background-color: #E8F0FE;\n",
              "      border: none;\n",
              "      border-radius: 50%;\n",
              "      cursor: pointer;\n",
              "      display: none;\n",
              "      fill: #1967D2;\n",
              "      height: 32px;\n",
              "      padding: 0 0 0 0;\n",
              "      width: 32px;\n",
              "    }\n",
              "\n",
              "    .colab-df-convert:hover {\n",
              "      background-color: #E2EBFA;\n",
              "      box-shadow: 0px 1px 2px rgba(60, 64, 67, 0.3), 0px 1px 3px 1px rgba(60, 64, 67, 0.15);\n",
              "      fill: #174EA6;\n",
              "    }\n",
              "\n",
              "    [theme=dark] .colab-df-convert {\n",
              "      background-color: #3B4455;\n",
              "      fill: #D2E3FC;\n",
              "    }\n",
              "\n",
              "    [theme=dark] .colab-df-convert:hover {\n",
              "      background-color: #434B5C;\n",
              "      box-shadow: 0px 1px 3px 1px rgba(0, 0, 0, 0.15);\n",
              "      filter: drop-shadow(0px 1px 2px rgba(0, 0, 0, 0.3));\n",
              "      fill: #FFFFFF;\n",
              "    }\n",
              "  </style>\n",
              "\n",
              "      <script>\n",
              "        const buttonEl =\n",
              "          document.querySelector('#df-2fe6a139-b718-4576-b6e4-dd4600dc8b93 button.colab-df-convert');\n",
              "        buttonEl.style.display =\n",
              "          google.colab.kernel.accessAllowed ? 'block' : 'none';\n",
              "\n",
              "        async function convertToInteractive(key) {\n",
              "          const element = document.querySelector('#df-2fe6a139-b718-4576-b6e4-dd4600dc8b93');\n",
              "          const dataTable =\n",
              "            await google.colab.kernel.invokeFunction('convertToInteractive',\n",
              "                                                     [key], {});\n",
              "          if (!dataTable) return;\n",
              "\n",
              "          const docLinkHtml = 'Like what you see? Visit the ' +\n",
              "            '<a target=\"_blank\" href=https://colab.research.google.com/notebooks/data_table.ipynb>data table notebook</a>'\n",
              "            + ' to learn more about interactive tables.';\n",
              "          element.innerHTML = '';\n",
              "          dataTable['output_type'] = 'display_data';\n",
              "          await google.colab.output.renderOutput(dataTable, element);\n",
              "          const docLink = document.createElement('div');\n",
              "          docLink.innerHTML = docLinkHtml;\n",
              "          element.appendChild(docLink);\n",
              "        }\n",
              "      </script>\n",
              "    </div>\n",
              "  </div>\n",
              "  "
            ]
          },
          "metadata": {},
          "execution_count": 15
        }
      ]
    },
    {
      "cell_type": "code",
      "source": [
        "df_test = df_test.dropna()"
      ],
      "metadata": {
        "id": "1GZxrX2n9LHY"
      },
      "execution_count": null,
      "outputs": []
    },
    {
      "cell_type": "markdown",
      "source": [
        "## Sets de Entrenamiento y Validación"
      ],
      "metadata": {
        "id": "8mKuqBWVnuoK"
      }
    },
    {
      "cell_type": "code",
      "source": [
        "#from sklearn.model_selection import train_test_split\n",
        "\n",
        "X_train = df_train.drop(['Survived'], axis = 1) \n",
        "y_train = df_train['Survived']   \n",
        "\n",
        "X_test = df_test.drop(['Survived'], axis = 1) \n",
        "y_test = df_test['Survived']    \n",
        "\n",
        "                             \n",
        "# Split dataset into training set and test set\n",
        "#X_train, X_test, y_train, y_test = train_test_split(X, y, test_size=0.70, random_state=5)"
      ],
      "metadata": {
        "id": "HwM_OKRWaJ4L"
      },
      "execution_count": null,
      "outputs": []
    },
    {
      "cell_type": "markdown",
      "source": [
        "# K neighbors"
      ],
      "metadata": {
        "id": "ODdkTPiMc2Gg"
      }
    },
    {
      "cell_type": "code",
      "source": [
        "from sklearn.neighbors import KNeighborsClassifier\n",
        "model = KNeighborsClassifier(n_neighbors = 10)"
      ],
      "metadata": {
        "id": "wx8Du5zXeWzm"
      },
      "execution_count": null,
      "outputs": []
    },
    {
      "cell_type": "code",
      "source": [
        "model.fit(X_train, y_train)"
      ],
      "metadata": {
        "colab": {
          "base_uri": "https://localhost:8080/"
        },
        "id": "2p5S0NrHefEq",
        "outputId": "a6959168-73dc-490c-b57e-d5c5e3ebf6e0"
      },
      "execution_count": null,
      "outputs": [
        {
          "output_type": "execute_result",
          "data": {
            "text/plain": [
              "KNeighborsClassifier(n_neighbors=10)"
            ]
          },
          "metadata": {},
          "execution_count": 19
        }
      ]
    },
    {
      "cell_type": "code",
      "source": [
        "predictions = model.predict(X_test)"
      ],
      "metadata": {
        "id": "nj1jzV8WejFL"
      },
      "execution_count": null,
      "outputs": []
    },
    {
      "cell_type": "code",
      "source": [
        "from sklearn.metrics import classification_report\n",
        "\n",
        "from sklearn.metrics import confusion_matrix\n",
        "\n",
        "print(classification_report(y_test, predictions))"
      ],
      "metadata": {
        "colab": {
          "base_uri": "https://localhost:8080/"
        },
        "id": "Ube0HrmdeqDo",
        "outputId": "e558fb24-3653-4363-9e5f-93b8efe541ff"
      },
      "execution_count": null,
      "outputs": [
        {
          "output_type": "stream",
          "name": "stdout",
          "text": [
            "              precision    recall  f1-score   support\n",
            "\n",
            "           0       0.71      0.80      0.76       265\n",
            "           1       0.56      0.43      0.49       152\n",
            "\n",
            "    accuracy                           0.67       417\n",
            "   macro avg       0.64      0.62      0.62       417\n",
            "weighted avg       0.66      0.67      0.66       417\n",
            "\n"
          ]
        }
      ]
    },
    {
      "cell_type": "code",
      "source": [
        "from sklearn import metrics\n",
        "print(\"Accuracy:\",metrics.accuracy_score(y_test, predictions))"
      ],
      "metadata": {
        "colab": {
          "base_uri": "https://localhost:8080/"
        },
        "id": "p1_NgbFUeyP2",
        "outputId": "84c5899b-70a9-4bff-e8f5-ea45f8735e88"
      },
      "execution_count": null,
      "outputs": [
        {
          "output_type": "stream",
          "name": "stdout",
          "text": [
            "Accuracy: 0.6690647482014388\n"
          ]
        }
      ]
    },
    {
      "cell_type": "code",
      "source": [
        "error_rates = []\n",
        "for i in np.arange(1, 101):\n",
        "\n",
        "    new_model = KNeighborsClassifier(n_neighbors = i)\n",
        "\n",
        "    new_model.fit(X_train, y_train)\n",
        "\n",
        "    new_predictions = new_model.predict(X_test)\n",
        "\n",
        "    error_rates.append(np.mean(new_predictions != y_test))"
      ],
      "metadata": {
        "id": "QnROanz1fRYg"
      },
      "execution_count": null,
      "outputs": []
    },
    {
      "cell_type": "code",
      "source": [
        "plt.plot(error_rates)"
      ],
      "metadata": {
        "colab": {
          "base_uri": "https://localhost:8080/",
          "height": 283
        },
        "id": "JSbODnBnfdtD",
        "outputId": "dca65ba6-5d34-4455-b57b-574b77d05286"
      },
      "execution_count": null,
      "outputs": [
        {
          "output_type": "execute_result",
          "data": {
            "text/plain": [
              "[<matplotlib.lines.Line2D at 0x7f0b729c35d0>]"
            ]
          },
          "metadata": {},
          "execution_count": 24
        },
        {
          "output_type": "display_data",
          "data": {
            "text/plain": [
              "<Figure size 432x288 with 1 Axes>"
            ],
            "image/png": "[encoded data removed]"
          },
          "metadata": {
            "needs_background": "light"
          }
        }
      ]
    },
    {
      "cell_type": "code",
      "source": [
        "model = KNeighborsClassifier(n_neighbors = 28)\n",
        "model.fit(X_train, y_train)\n",
        "predictions = model.predict(X_test)\n",
        "print(\"Accuracy:\",metrics.accuracy_score(y_test, predictions))"
      ],
      "metadata": {
        "colab": {
          "base_uri": "https://localhost:8080/"
        },
        "id": "oNUQSDlVfkc4",
        "outputId": "f08a8134-653a-46b1-d2a0-a92d947de508"
      },
      "execution_count": null,
      "outputs": [
        {
          "output_type": "stream",
          "name": "stdout",
          "text": [
            "Accuracy: 0.6810551558752997\n"
          ]
        }
      ]
    },
    {
      "cell_type": "markdown",
      "source": [
        "# K means"
      ],
      "metadata": {
        "id": "S6KmdFsShsNy"
      }
    },
    {
      "cell_type": "code",
      "source": [
        "import matplotlib.pyplot as plt\n",
        "from sklearn.cluster import KMeans\n",
        "wcss = []\n",
        "for i in range(1, 11):\n",
        "    kmeans = KMeans(n_clusters = i, init = 'k-means++', random_state = 42)\n",
        "    kmeans.fit(X_train)\n",
        "    wcss.append(kmeans.inertia_) #WCSS = within cluster sum of squares\n",
        "\n",
        "plt.plot(range(1, 11), wcss)\n",
        "plt.title('The Elbow Method')\n",
        "plt.xlabel('Number of clusters')\n",
        "plt.ylabel('WCSS') \n",
        "plt.show()"
      ],
      "metadata": {
        "colab": {
          "base_uri": "https://localhost:8080/",
          "height": 295
        },
        "id": "YQ__BICUdAo5",
        "outputId": "c6292fcb-d318-40cc-95d0-48a3e1e92441"
      },
      "execution_count": null,
      "outputs": [
        {
          "output_type": "display_data",
          "data": {
            "text/plain": [
              "<Figure size 432x288 with 1 Axes>"
            ],
            "image/png": "[encoded data removed]"
          },
          "metadata": {
            "needs_background": "light"
          }
        }
      ]
    },
    {
      "cell_type": "code",
      "source": [
        "kmeans = KMeans(n_clusters = 2, init = 'k-means++', random_state = 42)\n",
        "y_kmeans_pred = kmeans.fit_predict(X_train)"
      ],
      "metadata": {
        "id": "9srcNZTNh8EP"
      },
      "execution_count": null,
      "outputs": []
    },
    {
      "cell_type": "code",
      "source": [
        "from sklearn.metrics import confusion_matrix\n",
        "confusion_matrix(y_train, y_kmeans_pred)"
      ],
      "metadata": {
        "colab": {
          "base_uri": "https://localhost:8080/"
        },
        "id": "4kl6fNuAhxsn",
        "outputId": "c8fbed23-d1a8-4999-f858-b82852a560a1"
      },
      "execution_count": null,
      "outputs": [
        {
          "output_type": "execute_result",
          "data": {
            "text/plain": [
              "array([[ 14, 535],\n",
              "       [ 39, 301]])"
            ]
          },
          "metadata": {},
          "execution_count": 28
        }
      ]
    },
    {
      "cell_type": "code",
      "source": [
        "print(\"Accuracy:\",metrics.accuracy_score(y_train, y_kmeans_pred))"
      ],
      "metadata": {
        "colab": {
          "base_uri": "https://localhost:8080/"
        },
        "id": "eomivlfdiGdu",
        "outputId": "14cbff14-3237-4ccb-f8fd-bc9b8ba96c12"
      },
      "execution_count": null,
      "outputs": [
        {
          "output_type": "stream",
          "name": "stdout",
          "text": [
            "Accuracy: 0.3543307086614173\n"
          ]
        }
      ]
    },
    {
      "cell_type": "markdown",
      "source": [
        "### Modelo Sex, Fare, Class"
      ],
      "metadata": {
        "id": "HpebHB7YiYk2"
      }
    },
    {
      "cell_type": "code",
      "source": [
        "X_train_1 = X_train.drop(['Embarked','Parch','SibSp','Age'],axis = 1)"
      ],
      "metadata": {
        "id": "B8bIn5joiRVN"
      },
      "execution_count": null,
      "outputs": []
    },
    {
      "cell_type": "code",
      "source": [
        "kmeans2 = KMeans(n_clusters = 2, init = 'k-means++', random_state = 42)\n",
        "y_kmeans2_pred = kmeans2.fit_predict(X_train_1)"
      ],
      "metadata": {
        "id": "G2cA1k2vin7v"
      },
      "execution_count": null,
      "outputs": []
    },
    {
      "cell_type": "code",
      "source": [
        "df_3 = X_train_1.values"
      ],
      "metadata": {
        "id": "s-gC7o4XizOd"
      },
      "execution_count": null,
      "outputs": []
    },
    {
      "cell_type": "code",
      "source": [
        "# Creamos la figura\n",
        "fig = plt.figure()\n",
        "\n",
        "# Creamos el plano 3D\n",
        "ax1 = fig.add_subplot(111, projection='3d')\n",
        "\n",
        "col = ['cyan','green','blue']\n",
        "#Agregamos los puntos\n",
        "for i in range(0,2):\n",
        "  x = df_3[y_kmeans2_pred == i, 0]\n",
        "  y = df_3[y_kmeans2_pred == i, 1]\n",
        "  z = df_3[y_kmeans2_pred == i, 2]\n",
        "  clasi = 'Cluster '+str(i+1)\n",
        "  ax1.scatter(x, y, z, c = col[i-1], s = 150,label = clasi)\n",
        "\n",
        "# Agregamos los centros\n",
        "x = kmeans2.cluster_centers_[:, 0]\n",
        "y = kmeans2.cluster_centers_[:, 1]\n",
        "z = kmeans2.cluster_centers_[:, 2]\n",
        "ax1.scatter(x, y, z, c = 'yellow', s = 200, label = 'Centroids')\n",
        "\n",
        "plt.rcParams[\"figure.figsize\"] = (15,12)\n",
        "plt.title('Cluster')\n",
        "plt.legend()\n",
        "plt.xlabel('Class')\n",
        "plt.ylabel('Sex')\n",
        "\n",
        "plt.show()"
      ],
      "metadata": {
        "colab": {
          "base_uri": "https://localhost:8080/",
          "height": 248
        },
        "id": "go2LIxXhi-Hg",
        "outputId": "d6ae25bf-3fad-41b0-8807-754b5e3decc9"
      },
      "execution_count": null,
      "outputs": [
        {
          "output_type": "display_data",
          "data": {
            "text/plain": [
              "<Figure size 432x288 with 1 Axes>"
            ],
            "image/png": "[encoded data removed]"
          },
          "metadata": {
            "needs_background": "light"
          }
        }
      ]
    },
    {
      "cell_type": "code",
      "source": [
        "confusion_matrix(y_train, y_kmeans2_pred)"
      ],
      "metadata": {
        "colab": {
          "base_uri": "https://localhost:8080/"
        },
        "id": "sf60w9hGjDdy",
        "outputId": "709a7f90-323d-4186-bba7-d68ce7209ed5"
      },
      "execution_count": null,
      "outputs": [
        {
          "output_type": "execute_result",
          "data": {
            "text/plain": [
              "array([[535,  14],\n",
              "       [301,  39]])"
            ]
          },
          "metadata": {},
          "execution_count": 34
        }
      ]
    },
    {
      "cell_type": "code",
      "source": [
        "print(\"Accuracy:\",metrics.accuracy_score(y_train, y_kmeans2_pred))"
      ],
      "metadata": {
        "colab": {
          "base_uri": "https://localhost:8080/"
        },
        "id": "qiYPV9NDjnbs",
        "outputId": "25f90faf-5694-489f-d97b-d2e3c5efb270"
      },
      "execution_count": null,
      "outputs": [
        {
          "output_type": "stream",
          "name": "stdout",
          "text": [
            "Accuracy: 0.6456692913385826\n"
          ]
        }
      ]
    },
    {
      "cell_type": "markdown",
      "source": [
        "### Modelo Age y Fare"
      ],
      "metadata": {
        "id": "L-8y6TlBjv9H"
      }
    },
    {
      "cell_type": "code",
      "source": [
        "X_train_2 = X_train[['Age','Fare']]"
      ],
      "metadata": {
        "id": "4U_nmxNCjyKW"
      },
      "execution_count": null,
      "outputs": []
    },
    {
      "cell_type": "code",
      "source": [
        "X_train_2 = X_train_2.values"
      ],
      "metadata": {
        "id": "uBGPrZifkBNd"
      },
      "execution_count": null,
      "outputs": []
    },
    {
      "cell_type": "code",
      "source": [
        "wcss = []\n",
        "for i in range(1, 11):\n",
        "    kmeans_2 = KMeans(n_clusters = i, init = 'k-means++', random_state = 42)\n",
        "    kmeans_2.fit(X_train_2)\n",
        "    wcss.append(kmeans_2.inertia_) #WCSS = within cluster sum of squares\n",
        "\n",
        "plt.plot(range(1, 11), wcss)\n",
        "plt.title('The Elbow Method')\n",
        "plt.xlabel('Number of clusters')\n",
        "plt.ylabel('WCSS') \n",
        "plt.show()"
      ],
      "metadata": {
        "colab": {
          "base_uri": "https://localhost:8080/",
          "height": 730
        },
        "id": "OZgssjZCkMGI",
        "outputId": "cf9cb03a-4cfc-40fd-a273-a6e74fb55769"
      },
      "execution_count": null,
      "outputs": [
        {
          "output_type": "display_data",
          "data": {
            "text/plain": [
              "<Figure size 1080x864 with 1 Axes>"
            ],
            "image/png": "[encoded data removed]"
          },
          "metadata": {
            "needs_background": "light"
          }
        }
      ]
    },
    {
      "cell_type": "code",
      "source": [
        "kmeans3 = KMeans(n_clusters = 2, init = 'k-means++', random_state = 42)\n",
        "y_kmeans3_pred = kmeans3.fit_predict(X_train_2)"
      ],
      "metadata": {
        "id": "bZsfPzcpkWa3"
      },
      "execution_count": null,
      "outputs": []
    },
    {
      "cell_type": "code",
      "source": [
        "plt.figure(figsize=(10,5))\n",
        "plt.scatter(X_train_2[y_kmeans3_pred == 0, 0], X_train_2[y_kmeans3_pred == 0, 1], s = 50, c = 'red', label = 'Cluster 1')\n",
        "plt.scatter(X_train_2[y_kmeans3_pred == 1, 0], X_train_2[y_kmeans3_pred == 1, 1], s = 50, c = 'blue', label = 'Cluster 2')\n",
        "#plt.scatter(df_2[y_kmeans2 == 2, 0], df_2[y_kmeans2 == 2, 1], s = 50, c = 'green', label = 'Cluster 3')\n",
        "#plt.scatter(df_2[y_kmeans2 == 3, 0], df_2[y_kmeans2 == 3, 1], s = 100, c = 'cyan', label = 'Cluster 4')\n",
        "plt.scatter(kmeans3.cluster_centers_[:, 0], kmeans3.cluster_centers_[:, 1], s = 300, c = 'yellow', label = 'Centroids')\n",
        "plt.title('Clusters of customers')\n",
        "plt.xlabel('Annual Income (k$)')\n",
        "plt.ylabel('Spending Score (1-100)')\n",
        "plt.legend()\n",
        "plt.show()"
      ],
      "metadata": {
        "colab": {
          "base_uri": "https://localhost:8080/",
          "height": 350
        },
        "id": "ZCvNgvWrkn4r",
        "outputId": "39272bef-5913-47b0-f4b7-e4a4eb4dbc27"
      },
      "execution_count": null,
      "outputs": [
        {
          "output_type": "display_data",
          "data": {
            "text/plain": [
              "<Figure size 720x360 with 1 Axes>"
            ],
            "image/png": "[encoded data removed]"
          },
          "metadata": {
            "needs_background": "light"
          }
        }
      ]
    },
    {
      "cell_type": "code",
      "source": [
        "confusion_matrix(y_train, y_kmeans3_pred)"
      ],
      "metadata": {
        "colab": {
          "base_uri": "https://localhost:8080/"
        },
        "id": "M2BYOerOlCYT",
        "outputId": "a6603a98-7af9-40db-8c85-93920de4b8b6"
      },
      "execution_count": null,
      "outputs": [
        {
          "output_type": "execute_result",
          "data": {
            "text/plain": [
              "array([[ 14, 535],\n",
              "       [ 39, 301]])"
            ]
          },
          "metadata": {},
          "execution_count": 41
        }
      ]
    },
    {
      "cell_type": "code",
      "source": [
        "print(\"Accuracy:\",metrics.accuracy_score(y_train, y_kmeans3_pred))"
      ],
      "metadata": {
        "colab": {
          "base_uri": "https://localhost:8080/"
        },
        "id": "zqobpSpXlK3O",
        "outputId": "9fe0f359-ad4b-48ac-852f-0204e8a61fed"
      },
      "execution_count": null,
      "outputs": [
        {
          "output_type": "stream",
          "name": "stdout",
          "text": [
            "Accuracy: 0.3543307086614173\n"
          ]
        }
      ]
    },
    {
      "cell_type": "markdown",
      "source": [
        "# Decision Tree"
      ],
      "metadata": {
        "id": "3-zHgP6Nbe94"
      }
    },
    {
      "cell_type": "code",
      "source": [
        "from sklearn.tree import DecisionTreeClassifier\n",
        "from sklearn.model_selection import cross_val_score\n",
        "import numpy as np\n",
        "import matplotlib.pyplot as plt\n",
        "\n",
        "# function for fitting trees of various depths on the training data using cross-validation\n",
        "def run_cross_validation_on_trees(X, y, tree_depths, cv=5, scoring='accuracy'):\n",
        "    cv_scores_list = []\n",
        "    cv_scores_std = []\n",
        "    cv_scores_mean = []\n",
        "    accuracy_scores = []\n",
        "    for depth in tree_depths:\n",
        "        tree_model = DecisionTreeClassifier(max_depth=depth)\n",
        "        cv_scores = cross_val_score(tree_model, X, y, cv=cv, scoring=scoring)\n",
        "        cv_scores_list.append(cv_scores)\n",
        "        cv_scores_mean.append(cv_scores.mean())\n",
        "        cv_scores_std.append(cv_scores.std())\n",
        "        accuracy_scores.append(tree_model.fit(X, y).score(X, y))\n",
        "    cv_scores_mean = np.array(cv_scores_mean)\n",
        "    cv_scores_std = np.array(cv_scores_std)\n",
        "    accuracy_scores = np.array(accuracy_scores)\n",
        "    return cv_scores_mean, cv_scores_std, accuracy_scores\n",
        "  \n",
        "# function for plotting cross-validation results\n",
        "def plot_cross_validation_on_trees(depths, cv_scores_mean, cv_scores_std, accuracy_scores, title):\n",
        "    fig, ax = plt.subplots(1,1, figsize=(15,5))\n",
        "    ax.plot(depths, cv_scores_mean, '-o', label='mean cross-validation accuracy', alpha=0.9)\n",
        "    ax.fill_between(depths, cv_scores_mean-2*cv_scores_std, cv_scores_mean+2*cv_scores_std, alpha=0.2)\n",
        "    ylim = plt.ylim()\n",
        "    ax.plot(depths, accuracy_scores, '-*', label='train accuracy', alpha=0.9)\n",
        "    ax.set_title(title, fontsize=16)\n",
        "    ax.set_xlabel('Tree depth', fontsize=14)\n",
        "    ax.set_ylabel('Accuracy', fontsize=14)\n",
        "    ax.set_ylim(ylim)\n",
        "    ax.set_xticks(depths)\n",
        "    ax.legend()\n",
        "\n",
        "# fitting trees of depth 1 to 24\n",
        "sm_tree_depths = range(1,25)\n",
        "sm_cv_scores_mean, sm_cv_scores_std, sm_accuracy_scores = run_cross_validation_on_trees(X_train, y_train, sm_tree_depths)\n",
        "\n",
        "# plotting accuracy\n",
        "plot_cross_validation_on_trees(sm_tree_depths, sm_cv_scores_mean, sm_cv_scores_std, sm_accuracy_scores, \n",
        "                               'Accuracy per decision tree depth on training data')\n",
        "\n"
      ],
      "metadata": {
        "colab": {
          "base_uri": "https://localhost:8080/",
          "height": 356
        },
        "id": "uV59g3BO-rw3",
        "outputId": "b6a0d0a7-296d-40a9-9bda-5eb8066dfe7e"
      },
      "execution_count": null,
      "outputs": [
        {
          "output_type": "display_data",
          "data": {
            "text/plain": [
              "<Figure size 1080x360 with 1 Axes>"
            ],
            "image/png": "[encoded data removed]"
          },
          "metadata": {
            "needs_background": "light"
          }
        }
      ]
    },
    {
      "cell_type": "markdown",
      "source": [
        "### Modelo 1 Decision Tree"
      ],
      "metadata": {
        "id": "uWkOTvXTpT1d"
      }
    },
    {
      "cell_type": "code",
      "source": [
        "from sklearn.tree import DecisionTreeClassifier\n",
        "\n",
        "from sklearn import tree\n",
        "\n",
        "start_time = datetime.now()\n",
        "clf = DecisionTreeClassifier(max_depth = 5,random_state=0)\n",
        "clf.fit(X_train, y_train)\n",
        "y_pred=clf.predict(X_test)\n",
        "\n",
        "print(\"Accuracy:\",metrics.accuracy_score(y_test, y_pred))\n",
        "\n",
        "end_time = datetime.now()\n",
        "\n",
        "tiempo = end_time-start_time\n",
        "\n",
        "print(classification_report(y_test, y_pred))\n",
        "print(tiempo)"
      ],
      "metadata": {
        "colab": {
          "base_uri": "https://localhost:8080/"
        },
        "id": "241BHDRsQgeA",
        "outputId": "e2ae2ca9-6dd9-49e6-db1e-2a7f0134515d"
      },
      "execution_count": null,
      "outputs": [
        {
          "output_type": "stream",
          "name": "stdout",
          "text": [
            "Accuracy: 0.9568345323741008\n",
            "              precision    recall  f1-score   support\n",
            "\n",
            "           0       0.96      0.97      0.97       265\n",
            "           1       0.95      0.93      0.94       152\n",
            "\n",
            "    accuracy                           0.96       417\n",
            "   macro avg       0.96      0.95      0.95       417\n",
            "weighted avg       0.96      0.96      0.96       417\n",
            "\n",
            "0:00:00.023951\n"
          ]
        }
      ]
    },
    {
      "cell_type": "code",
      "source": [
        "y_test_1 = y_test.to_list()"
      ],
      "metadata": {
        "id": "SylAVYSaZxlh"
      },
      "execution_count": null,
      "outputs": []
    },
    {
      "cell_type": "code",
      "source": [
        "for i in range(len(y_pred)):\n",
        "  print('Real: ',y_test_1[i],' | Pred: ', y_pred[i])"
      ],
      "metadata": {
        "colab": {
          "base_uri": "https://localhost:8080/"
        },
        "id": "FGozB_N9VzIG",
        "outputId": "2bfee861-a377-459c-ff39-f197f6214e88"
      },
      "execution_count": null,
      "outputs": [
        {
          "output_type": "stream",
          "name": "stdout",
          "text": [
            "Real:  0  | Pred:  0\n",
            "Real:  1  | Pred:  0\n",
            "Real:  0  | Pred:  0\n",
            "Real:  0  | Pred:  0\n",
            "Real:  1  | Pred:  1\n",
            "Real:  0  | Pred:  0\n",
            "Real:  1  | Pred:  1\n",
            "Real:  0  | Pred:  0\n",
            "Real:  1  | Pred:  1\n",
            "Real:  0  | Pred:  0\n",
            "Real:  0  | Pred:  0\n",
            "Real:  0  | Pred:  0\n",
            "Real:  1  | Pred:  1\n",
            "Real:  0  | Pred:  0\n",
            "Real:  1  | Pred:  1\n",
            "Real:  1  | Pred:  1\n",
            "Real:  0  | Pred:  0\n",
            "Real:  0  | Pred:  0\n",
            "Real:  1  | Pred:  1\n",
            "Real:  1  | Pred:  0\n",
            "Real:  0  | Pred:  0\n",
            "Real:  0  | Pred:  0\n",
            "Real:  1  | Pred:  1\n",
            "Real:  0  | Pred:  0\n",
            "Real:  1  | Pred:  1\n",
            "Real:  0  | Pred:  0\n",
            "Real:  1  | Pred:  1\n",
            "Real:  0  | Pred:  0\n",
            "Real:  0  | Pred:  0\n",
            "Real:  0  | Pred:  0\n",
            "Real:  0  | Pred:  0\n",
            "Real:  0  | Pred:  0\n",
            "Real:  1  | Pred:  1\n",
            "Real:  1  | Pred:  0\n",
            "Real:  0  | Pred:  0\n",
            "Real:  0  | Pred:  0\n",
            "Real:  1  | Pred:  1\n",
            "Real:  1  | Pred:  1\n",
            "Real:  0  | Pred:  0\n",
            "Real:  0  | Pred:  1\n",
            "Real:  0  | Pred:  0\n",
            "Real:  0  | Pred:  0\n",
            "Real:  0  | Pred:  0\n",
            "Real:  1  | Pred:  1\n",
            "Real:  1  | Pred:  1\n",
            "Real:  0  | Pred:  0\n",
            "Real:  0  | Pred:  0\n",
            "Real:  0  | Pred:  0\n",
            "Real:  1  | Pred:  1\n",
            "Real:  1  | Pred:  1\n",
            "Real:  0  | Pred:  0\n",
            "Real:  0  | Pred:  0\n",
            "Real:  1  | Pred:  1\n",
            "Real:  1  | Pred:  1\n",
            "Real:  0  | Pred:  0\n",
            "Real:  0  | Pred:  0\n",
            "Real:  0  | Pred:  0\n",
            "Real:  0  | Pred:  0\n",
            "Real:  0  | Pred:  0\n",
            "Real:  1  | Pred:  1\n",
            "Real:  0  | Pred:  0\n",
            "Real:  0  | Pred:  0\n",
            "Real:  0  | Pred:  0\n",
            "Real:  1  | Pred:  1\n",
            "Real:  0  | Pred:  0\n",
            "Real:  1  | Pred:  1\n",
            "Real:  1  | Pred:  1\n",
            "Real:  0  | Pred:  0\n",
            "Real:  0  | Pred:  0\n",
            "Real:  1  | Pred:  1\n",
            "Real:  1  | Pred:  1\n",
            "Real:  0  | Pred:  0\n",
            "Real:  1  | Pred:  1\n",
            "Real:  0  | Pred:  0\n",
            "Real:  1  | Pred:  1\n",
            "Real:  0  | Pred:  0\n",
            "Real:  0  | Pred:  0\n",
            "Real:  1  | Pred:  1\n",
            "Real:  0  | Pred:  0\n",
            "Real:  1  | Pred:  1\n",
            "Real:  0  | Pred:  1\n",
            "Real:  0  | Pred:  0\n",
            "Real:  0  | Pred:  0\n",
            "Real:  0  | Pred:  0\n",
            "Real:  0  | Pred:  0\n",
            "Real:  0  | Pred:  0\n",
            "Real:  1  | Pred:  1\n",
            "Real:  1  | Pred:  1\n",
            "Real:  1  | Pred:  1\n",
            "Real:  0  | Pred:  1\n",
            "Real:  1  | Pred:  1\n",
            "Real:  0  | Pred:  0\n",
            "Real:  1  | Pred:  1\n",
            "Real:  0  | Pred:  0\n",
            "Real:  0  | Pred:  0\n",
            "Real:  0  | Pred:  0\n",
            "Real:  1  | Pred:  1\n",
            "Real:  0  | Pred:  0\n",
            "Real:  1  | Pred:  1\n",
            "Real:  0  | Pred:  0\n",
            "Real:  1  | Pred:  1\n",
            "Real:  0  | Pred:  0\n",
            "Real:  0  | Pred:  0\n",
            "Real:  0  | Pred:  0\n",
            "Real:  1  | Pred:  1\n",
            "Real:  0  | Pred:  0\n",
            "Real:  0  | Pred:  0\n",
            "Real:  0  | Pred:  0\n",
            "Real:  0  | Pred:  0\n",
            "Real:  0  | Pred:  0\n",
            "Real:  0  | Pred:  0\n",
            "Real:  1  | Pred:  1\n",
            "Real:  1  | Pred:  1\n",
            "Real:  1  | Pred:  1\n",
            "Real:  1  | Pred:  1\n",
            "Real:  0  | Pred:  0\n",
            "Real:  0  | Pred:  0\n",
            "Real:  1  | Pred:  1\n",
            "Real:  0  | Pred:  0\n",
            "Real:  1  | Pred:  1\n",
            "Real:  1  | Pred:  1\n",
            "Real:  0  | Pred:  0\n",
            "Real:  1  | Pred:  1\n",
            "Real:  0  | Pred:  0\n",
            "Real:  0  | Pred:  0\n",
            "Real:  1  | Pred:  1\n",
            "Real:  0  | Pred:  0\n",
            "Real:  1  | Pred:  1\n",
            "Real:  0  | Pred:  0\n",
            "Real:  0  | Pred:  0\n",
            "Real:  0  | Pred:  0\n",
            "Real:  0  | Pred:  0\n",
            "Real:  1  | Pred:  0\n",
            "Real:  0  | Pred:  0\n",
            "Real:  0  | Pred:  0\n",
            "Real:  0  | Pred:  0\n",
            "Real:  0  | Pred:  0\n",
            "Real:  0  | Pred:  0\n",
            "Real:  1  | Pred:  1\n",
            "Real:  0  | Pred:  0\n",
            "Real:  1  | Pred:  0\n",
            "Real:  1  | Pred:  1\n",
            "Real:  0  | Pred:  0\n",
            "Real:  0  | Pred:  0\n",
            "Real:  0  | Pred:  0\n",
            "Real:  0  | Pred:  0\n",
            "Real:  0  | Pred:  0\n",
            "Real:  0  | Pred:  0\n",
            "Real:  0  | Pred:  0\n",
            "Real:  0  | Pred:  0\n",
            "Real:  1  | Pred:  1\n",
            "Real:  0  | Pred:  0\n",
            "Real:  1  | Pred:  1\n",
            "Real:  0  | Pred:  0\n",
            "Real:  0  | Pred:  0\n",
            "Real:  1  | Pred:  1\n",
            "Real:  1  | Pred:  1\n",
            "Real:  0  | Pred:  0\n",
            "Real:  1  | Pred:  1\n",
            "Real:  1  | Pred:  1\n",
            "Real:  0  | Pred:  0\n",
            "Real:  1  | Pred:  1\n",
            "Real:  0  | Pred:  0\n",
            "Real:  0  | Pred:  0\n",
            "Real:  1  | Pred:  1\n",
            "Real:  0  | Pred:  0\n",
            "Real:  0  | Pred:  0\n",
            "Real:  1  | Pred:  1\n",
            "Real:  1  | Pred:  1\n",
            "Real:  0  | Pred:  0\n",
            "Real:  0  | Pred:  0\n",
            "Real:  0  | Pred:  0\n",
            "Real:  0  | Pred:  0\n",
            "Real:  0  | Pred:  0\n",
            "Real:  1  | Pred:  1\n",
            "Real:  1  | Pred:  1\n",
            "Real:  0  | Pred:  0\n",
            "Real:  1  | Pred:  1\n",
            "Real:  1  | Pred:  1\n",
            "Real:  0  | Pred:  0\n",
            "Real:  0  | Pred:  0\n",
            "Real:  1  | Pred:  1\n",
            "Real:  0  | Pred:  0\n",
            "Real:  1  | Pred:  1\n",
            "Real:  0  | Pred:  0\n",
            "Real:  1  | Pred:  1\n",
            "Real:  0  | Pred:  0\n",
            "Real:  1  | Pred:  0\n",
            "Real:  0  | Pred:  0\n",
            "Real:  0  | Pred:  0\n",
            "Real:  0  | Pred:  0\n",
            "Real:  0  | Pred:  0\n",
            "Real:  0  | Pred:  0\n",
            "Real:  0  | Pred:  0\n",
            "Real:  0  | Pred:  0\n",
            "Real:  0  | Pred:  1\n",
            "Real:  1  | Pred:  1\n",
            "Real:  0  | Pred:  0\n",
            "Real:  1  | Pred:  1\n",
            "Real:  1  | Pred:  1\n",
            "Real:  0  | Pred:  1\n",
            "Real:  0  | Pred:  0\n",
            "Real:  1  | Pred:  1\n",
            "Real:  0  | Pred:  0\n",
            "Real:  0  | Pred:  0\n",
            "Real:  1  | Pred:  1\n",
            "Real:  0  | Pred:  0\n",
            "Real:  1  | Pred:  1\n",
            "Real:  0  | Pred:  0\n",
            "Real:  0  | Pred:  0\n",
            "Real:  0  | Pred:  0\n",
            "Real:  0  | Pred:  0\n",
            "Real:  1  | Pred:  1\n",
            "Real:  1  | Pred:  0\n",
            "Real:  0  | Pred:  0\n",
            "Real:  1  | Pred:  1\n",
            "Real:  0  | Pred:  0\n",
            "Real:  1  | Pred:  1\n",
            "Real:  0  | Pred:  0\n",
            "Real:  1  | Pred:  1\n",
            "Real:  0  | Pred:  0\n",
            "Real:  1  | Pred:  1\n",
            "Real:  0  | Pred:  0\n",
            "Real:  1  | Pred:  1\n",
            "Real:  1  | Pred:  1\n",
            "Real:  0  | Pred:  0\n",
            "Real:  1  | Pred:  1\n",
            "Real:  0  | Pred:  0\n",
            "Real:  0  | Pred:  0\n",
            "Real:  0  | Pred:  0\n",
            "Real:  1  | Pred:  1\n",
            "Real:  0  | Pred:  0\n",
            "Real:  0  | Pred:  0\n",
            "Real:  0  | Pred:  0\n",
            "Real:  0  | Pred:  0\n",
            "Real:  0  | Pred:  0\n",
            "Real:  0  | Pred:  0\n",
            "Real:  1  | Pred:  1\n",
            "Real:  1  | Pred:  1\n",
            "Real:  1  | Pred:  1\n",
            "Real:  1  | Pred:  1\n",
            "Real:  0  | Pred:  0\n",
            "Real:  0  | Pred:  0\n",
            "Real:  0  | Pred:  0\n",
            "Real:  0  | Pred:  0\n",
            "Real:  1  | Pred:  1\n",
            "Real:  0  | Pred:  0\n",
            "Real:  1  | Pred:  1\n",
            "Real:  1  | Pred:  1\n",
            "Real:  1  | Pred:  1\n",
            "Real:  0  | Pred:  0\n",
            "Real:  0  | Pred:  0\n",
            "Real:  0  | Pred:  0\n",
            "Real:  0  | Pred:  0\n",
            "Real:  0  | Pred:  0\n",
            "Real:  0  | Pred:  0\n",
            "Real:  0  | Pred:  0\n",
            "Real:  1  | Pred:  1\n",
            "Real:  0  | Pred:  0\n",
            "Real:  0  | Pred:  0\n",
            "Real:  0  | Pred:  0\n",
            "Real:  1  | Pred:  1\n",
            "Real:  1  | Pred:  1\n",
            "Real:  0  | Pred:  0\n",
            "Real:  0  | Pred:  0\n",
            "Real:  0  | Pred:  0\n",
            "Real:  0  | Pred:  0\n",
            "Real:  1  | Pred:  1\n",
            "Real:  0  | Pred:  0\n",
            "Real:  0  | Pred:  0\n",
            "Real:  0  | Pred:  0\n",
            "Real:  1  | Pred:  1\n",
            "Real:  1  | Pred:  1\n",
            "Real:  0  | Pred:  0\n",
            "Real:  1  | Pred:  1\n",
            "Real:  0  | Pred:  0\n",
            "Real:  0  | Pred:  0\n",
            "Real:  0  | Pred:  0\n",
            "Real:  0  | Pred:  0\n",
            "Real:  1  | Pred:  1\n",
            "Real:  0  | Pred:  1\n",
            "Real:  1  | Pred:  1\n",
            "Real:  1  | Pred:  1\n",
            "Real:  1  | Pred:  1\n",
            "Real:  0  | Pred:  0\n",
            "Real:  0  | Pred:  0\n",
            "Real:  0  | Pred:  0\n",
            "Real:  0  | Pred:  0\n",
            "Real:  0  | Pred:  0\n",
            "Real:  0  | Pred:  0\n",
            "Real:  1  | Pred:  1\n",
            "Real:  0  | Pred:  0\n",
            "Real:  0  | Pred:  0\n",
            "Real:  0  | Pred:  0\n",
            "Real:  0  | Pred:  0\n",
            "Real:  1  | Pred:  1\n",
            "Real:  0  | Pred:  0\n",
            "Real:  0  | Pred:  0\n",
            "Real:  0  | Pred:  0\n",
            "Real:  0  | Pred:  0\n",
            "Real:  0  | Pred:  0\n",
            "Real:  0  | Pred:  0\n",
            "Real:  0  | Pred:  0\n",
            "Real:  1  | Pred:  1\n",
            "Real:  1  | Pred:  1\n",
            "Real:  0  | Pred:  0\n",
            "Real:  0  | Pred:  1\n",
            "Real:  0  | Pred:  0\n",
            "Real:  1  | Pred:  0\n",
            "Real:  0  | Pred:  0\n",
            "Real:  0  | Pred:  0\n",
            "Real:  0  | Pred:  0\n",
            "Real:  1  | Pred:  0\n",
            "Real:  1  | Pred:  1\n",
            "Real:  1  | Pred:  1\n",
            "Real:  0  | Pred:  0\n",
            "Real:  0  | Pred:  0\n",
            "Real:  0  | Pred:  0\n",
            "Real:  0  | Pred:  0\n",
            "Real:  0  | Pred:  0\n",
            "Real:  0  | Pred:  0\n",
            "Real:  0  | Pred:  0\n",
            "Real:  0  | Pred:  0\n",
            "Real:  1  | Pred:  1\n",
            "Real:  0  | Pred:  0\n",
            "Real:  1  | Pred:  1\n",
            "Real:  0  | Pred:  0\n",
            "Real:  0  | Pred:  0\n",
            "Real:  0  | Pred:  0\n",
            "Real:  1  | Pred:  1\n",
            "Real:  0  | Pred:  0\n",
            "Real:  0  | Pred:  0\n",
            "Real:  1  | Pred:  1\n",
            "Real:  0  | Pred:  0\n",
            "Real:  0  | Pred:  0\n",
            "Real:  0  | Pred:  0\n",
            "Real:  0  | Pred:  0\n",
            "Real:  0  | Pred:  0\n",
            "Real:  0  | Pred:  0\n",
            "Real:  0  | Pred:  0\n",
            "Real:  0  | Pred:  0\n",
            "Real:  0  | Pred:  0\n",
            "Real:  1  | Pred:  1\n",
            "Real:  0  | Pred:  0\n",
            "Real:  1  | Pred:  1\n",
            "Real:  0  | Pred:  0\n",
            "Real:  1  | Pred:  0\n",
            "Real:  0  | Pred:  0\n",
            "Real:  1  | Pred:  1\n",
            "Real:  1  | Pred:  1\n",
            "Real:  0  | Pred:  0\n",
            "Real:  0  | Pred:  0\n",
            "Real:  0  | Pred:  0\n",
            "Real:  1  | Pred:  1\n",
            "Real:  0  | Pred:  0\n",
            "Real:  1  | Pred:  1\n",
            "Real:  0  | Pred:  0\n",
            "Real:  0  | Pred:  0\n",
            "Real:  1  | Pred:  1\n",
            "Real:  0  | Pred:  0\n",
            "Real:  1  | Pred:  1\n",
            "Real:  1  | Pred:  1\n",
            "Real:  0  | Pred:  0\n",
            "Real:  1  | Pred:  1\n",
            "Real:  1  | Pred:  0\n",
            "Real:  0  | Pred:  0\n",
            "Real:  1  | Pred:  1\n",
            "Real:  1  | Pred:  1\n",
            "Real:  0  | Pred:  0\n",
            "Real:  0  | Pred:  0\n",
            "Real:  1  | Pred:  1\n",
            "Real:  0  | Pred:  0\n",
            "Real:  0  | Pred:  0\n",
            "Real:  1  | Pred:  1\n",
            "Real:  1  | Pred:  1\n",
            "Real:  1  | Pred:  1\n",
            "Real:  0  | Pred:  0\n",
            "Real:  0  | Pred:  0\n",
            "Real:  0  | Pred:  0\n",
            "Real:  0  | Pred:  0\n",
            "Real:  0  | Pred:  0\n",
            "Real:  1  | Pred:  1\n",
            "Real:  1  | Pred:  1\n",
            "Real:  0  | Pred:  0\n",
            "Real:  1  | Pred:  1\n",
            "Real:  0  | Pred:  0\n",
            "Real:  0  | Pred:  0\n",
            "Real:  0  | Pred:  0\n",
            "Real:  0  | Pred:  0\n",
            "Real:  0  | Pred:  0\n",
            "Real:  1  | Pred:  1\n",
            "Real:  0  | Pred:  0\n",
            "Real:  0  | Pred:  0\n",
            "Real:  0  | Pred:  0\n",
            "Real:  1  | Pred:  1\n",
            "Real:  0  | Pred:  0\n",
            "Real:  1  | Pred:  1\n",
            "Real:  0  | Pred:  0\n",
            "Real:  0  | Pred:  0\n",
            "Real:  1  | Pred:  1\n",
            "Real:  0  | Pred:  0\n",
            "Real:  1  | Pred:  1\n",
            "Real:  0  | Pred:  0\n",
            "Real:  0  | Pred:  0\n",
            "Real:  0  | Pred:  0\n",
            "Real:  0  | Pred:  0\n",
            "Real:  0  | Pred:  0\n",
            "Real:  1  | Pred:  1\n",
            "Real:  1  | Pred:  1\n",
            "Real:  1  | Pred:  1\n",
            "Real:  1  | Pred:  1\n",
            "Real:  1  | Pred:  1\n",
            "Real:  0  | Pred:  0\n",
            "Real:  1  | Pred:  1\n",
            "Real:  0  | Pred:  0\n",
            "Real:  0  | Pred:  0\n",
            "Real:  0  | Pred:  0\n"
          ]
        }
      ]
    },
    {
      "cell_type": "code",
      "source": [
        "cf_matrix = confusion_matrix(y_test, y_pred)\n",
        "cf_matrix"
      ],
      "metadata": {
        "colab": {
          "base_uri": "https://localhost:8080/"
        },
        "id": "x-xeG-PNagCy",
        "outputId": "0f9b615c-17ec-4d6a-d78d-27c9bdf587b7"
      },
      "execution_count": null,
      "outputs": [
        {
          "output_type": "execute_result",
          "data": {
            "text/plain": [
              "array([[258,   7],\n",
              "       [ 11, 141]])"
            ]
          },
          "metadata": {},
          "execution_count": 47
        }
      ]
    },
    {
      "cell_type": "code",
      "source": [
        "ax = sns.heatmap(cf_matrix/np.sum(cf_matrix), annot=True, \n",
        "            fmt='.2%', cmap='Blues')\n",
        "\n",
        "ax.set_title('Seaborn Confusion Matrix with labels\\n\\n');\n",
        "ax.set_xlabel('\\nPredicted Values')\n",
        "ax.set_ylabel('Actual Values ');\n",
        "\n",
        "\n",
        "ax.xaxis.set_ticklabels(['False','True'])\n",
        "ax.yaxis.set_ticklabels(['False','True'])\n",
        "\n",
        "\n",
        "plt.show()"
      ],
      "metadata": {
        "colab": {
          "base_uri": "https://localhost:8080/",
          "height": 772
        },
        "id": "gHtFxedTaiV6",
        "outputId": "240b371a-4a6c-471b-a0bc-b1191bfa48d9"
      },
      "execution_count": null,
      "outputs": [
        {
          "output_type": "display_data",
          "data": {
            "text/plain": [
              "<Figure size 1080x864 with 2 Axes>"
            ],
            "image/png": "[encoded data removed]"
          },
          "metadata": {
            "needs_background": "light"
          }
        }
      ]
    },
    {
      "cell_type": "code",
      "source": [
        "fig = plt.figure(figsize=(25,20))\n",
        "_ = tree.plot_tree(clf,   \n",
        "                   filled=True)"
      ],
      "metadata": {
        "colab": {
          "base_uri": "https://localhost:8080/",
          "height": 1000
        },
        "id": "1Nm5EXPEefde",
        "outputId": "c4c1fbc6-2c58-4ba7-a318-9fa4f726e182"
      },
      "execution_count": null,
      "outputs": [
        {
          "output_type": "display_data",
          "data": {
            "text/plain": [
              "<Figure size 1800x1440 with 1 Axes>"
            ],
            "image/png": "[encoded data removed]"
          },
          "metadata": {
            "needs_background": "light"
          }
        }
      ]
    },
    {
      "cell_type": "code",
      "source": [
        "fig.savefig(\"decision_tree.png\")"
      ],
      "metadata": {
        "id": "ZRY7KogSgK4R"
      },
      "execution_count": null,
      "outputs": []
    },
    {
      "cell_type": "markdown",
      "source": [
        "### Modelo 2 Decision Tree"
      ],
      "metadata": {
        "id": "WWzxgl2vpPEk"
      }
    },
    {
      "cell_type": "code",
      "source": [
        "start_time = datetime.now()\n",
        "clf = DecisionTreeClassifier(criterion = \"entropy\",max_depth = 5,random_state=0)\n",
        "clf.fit(X_train, y_train)\n",
        "y_pred=clf.predict(X_test)\n",
        "\n",
        "print(\"Accuracy:\",metrics.accuracy_score(y_test, y_pred))\n",
        "end_time = datetime.now()\n",
        "\n",
        "tiempo = end_time-start_time\n",
        "\n",
        "print(classification_report(y_test, y_pred))\n",
        "print(tiempo)"
      ],
      "metadata": {
        "colab": {
          "base_uri": "https://localhost:8080/"
        },
        "id": "1PSJBDd-lV97",
        "outputId": "db25f546-435c-498a-b6b0-4faa3e0c258b"
      },
      "execution_count": null,
      "outputs": [
        {
          "output_type": "stream",
          "name": "stdout",
          "text": [
            "Accuracy: 0.9280575539568345\n",
            "              precision    recall  f1-score   support\n",
            "\n",
            "           0       0.95      0.93      0.94       265\n",
            "           1       0.89      0.92      0.90       152\n",
            "\n",
            "    accuracy                           0.93       417\n",
            "   macro avg       0.92      0.93      0.92       417\n",
            "weighted avg       0.93      0.93      0.93       417\n",
            "\n",
            "0:00:00.040392\n"
          ]
        }
      ]
    },
    {
      "cell_type": "code",
      "source": [
        "confusion_matrix(y_test, y_pred)"
      ],
      "metadata": {
        "id": "0TswNPUwBdIZ",
        "colab": {
          "base_uri": "https://localhost:8080/"
        },
        "outputId": "e97bd25c-a7c1-4c78-ee17-e5dc61716114"
      },
      "execution_count": null,
      "outputs": [
        {
          "output_type": "execute_result",
          "data": {
            "text/plain": [
              "array([[247,  18],\n",
              "       [ 12, 140]])"
            ]
          },
          "metadata": {},
          "execution_count": 52
        }
      ]
    },
    {
      "cell_type": "markdown",
      "source": [
        "# Random Forest"
      ],
      "metadata": {
        "id": "cNAndMB8cGNi"
      }
    },
    {
      "cell_type": "markdown",
      "source": [
        "### Modelo 1 Random Forest"
      ],
      "metadata": {
        "id": "IhTSoqHApZya"
      }
    },
    {
      "cell_type": "code",
      "source": [
        "from sklearn.ensemble import RandomForestClassifier\n",
        "\n",
        "clf=RandomForestClassifier(max_depth = 5,n_estimators=100,random_state=0)\n",
        "\n",
        "clf.fit(X_train,y_train)\n",
        "\n",
        "y_pred=clf.predict(X_test)\n",
        "\n",
        "print(\"Accuracy:\",metrics.accuracy_score(y_test, y_pred))"
      ],
      "metadata": {
        "id": "6XMh6LCrZE3I",
        "colab": {
          "base_uri": "https://localhost:8080/"
        },
        "outputId": "f210d2e1-b548-4dde-d27d-ae742ed5687c"
      },
      "execution_count": null,
      "outputs": [
        {
          "output_type": "stream",
          "name": "stdout",
          "text": [
            "Accuracy: 0.8920863309352518\n"
          ]
        }
      ]
    },
    {
      "cell_type": "code",
      "source": [
        "confusion_matrix(y_test, y_pred)"
      ],
      "metadata": {
        "colab": {
          "base_uri": "https://localhost:8080/"
        },
        "id": "BAGeRE00S4wa",
        "outputId": "3a2967b5-898e-4000-8de3-d7e086c00154"
      },
      "execution_count": null,
      "outputs": [
        {
          "output_type": "execute_result",
          "data": {
            "text/plain": [
              "array([[256,   9],\n",
              "       [ 36, 116]])"
            ]
          },
          "metadata": {},
          "execution_count": 54
        }
      ]
    },
    {
      "cell_type": "markdown",
      "source": [
        "### Código para encontrar los mejores parámetros de Random Forest"
      ],
      "metadata": {
        "id": "HKRaxBWDpldo"
      }
    },
    {
      "cell_type": "code",
      "source": [
        "#forest = RandomForestClassifier(random_state = 1)\n",
        "#modelF = forest.fit(X_train, y_train)\n",
        "#y_predF = modelF.predict(X_test)"
      ],
      "metadata": {
        "id": "Btnel5tXB8da"
      },
      "execution_count": null,
      "outputs": []
    },
    {
      "cell_type": "code",
      "source": [
        "#from sklearn.model_selection import GridSearchCV\n",
        "#n_estimators = [100, 300, 500, 800, 1200]\n",
        "#max_depth = [5, 8, 15, 25, 30]\n",
        "#min_samples_split = [2, 5, 10, 15, 100]\n",
        "#min_samples_leaf = [1, 2, 5, 10] \n",
        "\n",
        "#hyperF = dict(n_estimators = n_estimators, max_depth = max_depth,  \n",
        "  #            min_samples_split = min_samples_split, \n",
        " #            min_samples_leaf = min_samples_leaf)\n",
        "\n",
        "#gridF = GridSearchCV(forest, hyperF, cv = 3, verbose = 1, \n",
        "               #       n_jobs = -1)\n",
        "#bestF = gridF.fit(X_train, y_train)"
      ],
      "metadata": {
        "id": "QRJrZbg5Bgwh"
      },
      "execution_count": null,
      "outputs": []
    },
    {
      "cell_type": "code",
      "source": [
        "#bestF.best_params_"
      ],
      "metadata": {
        "id": "Ze9R0E3cI3DN"
      },
      "execution_count": null,
      "outputs": []
    },
    {
      "cell_type": "markdown",
      "source": [
        "### Modelo 2 Random Forest"
      ],
      "metadata": {
        "id": "p7nzxzi9psyX"
      }
    },
    {
      "cell_type": "code",
      "source": [
        "start_time = datetime.now()\n",
        "clf=RandomForestClassifier(max_depth = 5,min_samples_leaf =2, min_samples_split=15, n_estimators=100,random_state=5,max_features = 4)\n",
        "\n",
        "clf.fit(X_train,y_train)\n",
        "\n",
        "y_pred=clf.predict(X_test)\n",
        "\n",
        "\n",
        "print(\"Accuracy:\",metrics.accuracy_score(y_test, y_pred))\n",
        "end_time = datetime.now()\n",
        "\n",
        "tiempo = end_time-start_time\n",
        "\n",
        "print(classification_report(y_test, y_pred))\n",
        "print(tiempo)"
      ],
      "metadata": {
        "id": "WdpNHRJbKMdN",
        "colab": {
          "base_uri": "https://localhost:8080/"
        },
        "outputId": "1c3aa8fd-cd6f-4557-cd33-28b6772df448"
      },
      "execution_count": null,
      "outputs": [
        {
          "output_type": "stream",
          "name": "stdout",
          "text": [
            "Accuracy: 0.9232613908872902\n",
            "              precision    recall  f1-score   support\n",
            "\n",
            "           0       0.92      0.97      0.94       265\n",
            "           1       0.93      0.85      0.89       152\n",
            "\n",
            "    accuracy                           0.92       417\n",
            "   macro avg       0.93      0.91      0.92       417\n",
            "weighted avg       0.92      0.92      0.92       417\n",
            "\n",
            "0:00:00.733005\n"
          ]
        }
      ]
    },
    {
      "cell_type": "markdown",
      "source": [
        "Random Forest Important features"
      ],
      "metadata": {
        "id": "1ty_sACtWtmF"
      }
    },
    {
      "cell_type": "code",
      "source": [
        "names = list(X_test.columns)\n",
        "feature_imp = pd.Series(clf.feature_importances_,index=names).sort_values(ascending=False)\n",
        "feature_imp"
      ],
      "metadata": {
        "id": "xJIvB84HVGFj",
        "colab": {
          "base_uri": "https://localhost:8080/"
        },
        "outputId": "b83640bc-3cb4-46d0-ef07-bd95b8f6d453"
      },
      "execution_count": null,
      "outputs": [
        {
          "output_type": "execute_result",
          "data": {
            "text/plain": [
              "Sex         0.513144\n",
              "Fare        0.161509\n",
              "Pclass      0.146457\n",
              "Age         0.104232\n",
              "SibSp       0.042091\n",
              "Embarked    0.016680\n",
              "Parch       0.015887\n",
              "dtype: float64"
            ]
          },
          "metadata": {},
          "execution_count": 59
        }
      ]
    },
    {
      "cell_type": "code",
      "source": [
        "sns.barplot(x=feature_imp, y=feature_imp.index)\n",
        "\n",
        "plt.xlabel('Feature Importance Score')\n",
        "plt.ylabel('Features')\n",
        "plt.title(\"Visualizing Important Features\")\n",
        "plt.legend()\n",
        "plt.show()"
      ],
      "metadata": {
        "id": "JoqKNBsqXSw4",
        "colab": {
          "base_uri": "https://localhost:8080/",
          "height": 748
        },
        "outputId": "bade101f-ef67-4bce-c50f-1d0bf2d8b198"
      },
      "execution_count": null,
      "outputs": [
        {
          "output_type": "stream",
          "name": "stderr",
          "text": [
            "WARNING:matplotlib.legend:No handles with labels found to put in legend.\n"
          ]
        },
        {
          "output_type": "display_data",
          "data": {
            "text/plain": [
              "<Figure size 1080x864 with 1 Axes>"
            ],
            "image/png": "[encoded data removed]"
          },
          "metadata": {
            "needs_background": "light"
          }
        }
      ]
    },
    {
      "cell_type": "markdown",
      "source": [
        "### Modelo 3 Random Forest"
      ],
      "metadata": {
        "id": "wbqPoE0Lp0xQ"
      }
    },
    {
      "cell_type": "code",
      "source": [
        "X_test_1 = X_test.drop(['Embarked','Parch'], axis = 1)\n",
        "X_train_1 = X_train.drop(['Embarked','Parch'], axis = 1)"
      ],
      "metadata": {
        "id": "LsrwtyWQXXuz"
      },
      "execution_count": null,
      "outputs": []
    },
    {
      "cell_type": "code",
      "source": [
        "clf=RandomForestClassifier(max_depth = 5,min_samples_leaf =2, min_samples_split=15, n_estimators=100,random_state=5,max_features = 4)\n",
        "\n",
        "clf.fit(X_train_1,y_train)\n",
        "\n",
        "y_pred=clf.predict(X_test_1)\n",
        "\n",
        "print(\"Accuracy:\",metrics.accuracy_score(y_test, y_pred))"
      ],
      "metadata": {
        "id": "-rKGlfI2X1_c",
        "colab": {
          "base_uri": "https://localhost:8080/"
        },
        "outputId": "50685f7d-23d8-4cec-dbcd-7e5c355b0408"
      },
      "execution_count": null,
      "outputs": [
        {
          "output_type": "stream",
          "name": "stdout",
          "text": [
            "Accuracy: 0.9136690647482014\n"
          ]
        }
      ]
    },
    {
      "cell_type": "markdown",
      "source": [
        "# Red Neuronal"
      ],
      "metadata": {
        "id": "WdAVD2OCuF-M"
      }
    },
    {
      "cell_type": "code",
      "source": [
        "from tensorflow import keras\n",
        "\n",
        "start_time = datetime.now()\n",
        "model=keras.Sequential([\n",
        "    keras.layers.Dense(20,input_shape=(7,),activation='relu'),\n",
        "    keras.layers.Dense(10,activation='relu'),\n",
        "    keras.layers.Dense(1,activation='sigmoid')\n",
        "])\n",
        "model.compile(optimizer='adam',\n",
        "              loss='binary_crossentropy',\n",
        "              metrics=['accuracy']\n",
        ")\n",
        "model.fit(X_train,y_train,epochs=150,batch_size=18)\n",
        "predict=model.predict(X_test)\n",
        "\n",
        "end_time = datetime.now()\n",
        "\n",
        "tiempo = end_time-start_time\n",
        "\n",
        "print(tiempo)"
      ],
      "metadata": {
        "id": "EEaSr-DRrWo6",
        "colab": {
          "base_uri": "https://localhost:8080/"
        },
        "outputId": "8468bea3-c346-4906-ee40-90f1c35b10d3"
      },
      "execution_count": null,
      "outputs": [
        {
          "output_type": "stream",
          "name": "stdout",
          "text": [
            "Epoch 1/150\n",
            "50/50 [==============================] - 1s 2ms/step - loss: 0.7252 - accuracy: 0.6569\n",
            "Epoch 2/150\n",
            "50/50 [==============================] - 0s 2ms/step - loss: 0.6178 - accuracy: 0.6704\n",
            "Epoch 3/150\n",
            "50/50 [==============================] - 0s 2ms/step - loss: 0.5956 - accuracy: 0.6794\n",
            "Epoch 4/150\n",
            "50/50 [==============================] - 0s 2ms/step - loss: 0.5838 - accuracy: 0.6997\n",
            "Epoch 5/150\n",
            "50/50 [==============================] - 0s 2ms/step - loss: 0.5734 - accuracy: 0.7098\n",
            "Epoch 6/150\n",
            "50/50 [==============================] - 0s 3ms/step - loss: 0.5660 - accuracy: 0.6974\n",
            "Epoch 7/150\n",
            "50/50 [==============================] - 0s 2ms/step - loss: 0.5594 - accuracy: 0.7177\n",
            "Epoch 8/150\n",
            "50/50 [==============================] - 0s 2ms/step - loss: 0.5516 - accuracy: 0.7120\n",
            "Epoch 9/150\n",
            "50/50 [==============================] - 0s 2ms/step - loss: 0.5422 - accuracy: 0.7255\n",
            "Epoch 10/150\n",
            "50/50 [==============================] - 0s 2ms/step - loss: 0.5366 - accuracy: 0.7210\n",
            "Epoch 11/150\n",
            "50/50 [==============================] - 0s 2ms/step - loss: 0.5333 - accuracy: 0.7177\n",
            "Epoch 12/150\n",
            "50/50 [==============================] - 0s 2ms/step - loss: 0.5256 - accuracy: 0.7379\n",
            "Epoch 13/150\n",
            "50/50 [==============================] - 0s 2ms/step - loss: 0.5156 - accuracy: 0.7334\n",
            "Epoch 14/150\n",
            "50/50 [==============================] - 0s 2ms/step - loss: 0.5187 - accuracy: 0.7334\n",
            "Epoch 15/150\n",
            "50/50 [==============================] - 0s 2ms/step - loss: 0.5155 - accuracy: 0.7402\n",
            "Epoch 16/150\n",
            "50/50 [==============================] - 0s 2ms/step - loss: 0.5097 - accuracy: 0.7447\n",
            "Epoch 17/150\n",
            "50/50 [==============================] - 0s 2ms/step - loss: 0.5007 - accuracy: 0.7492\n",
            "Epoch 18/150\n",
            "50/50 [==============================] - 0s 2ms/step - loss: 0.4909 - accuracy: 0.7593\n",
            "Epoch 19/150\n",
            "50/50 [==============================] - 0s 2ms/step - loss: 0.4908 - accuracy: 0.7582\n",
            "Epoch 20/150\n",
            "50/50 [==============================] - 0s 2ms/step - loss: 0.4892 - accuracy: 0.7649\n",
            "Epoch 21/150\n",
            "50/50 [==============================] - 0s 2ms/step - loss: 0.4804 - accuracy: 0.7570\n",
            "Epoch 22/150\n",
            "50/50 [==============================] - 0s 2ms/step - loss: 0.4803 - accuracy: 0.7660\n",
            "Epoch 23/150\n",
            "50/50 [==============================] - 0s 3ms/step - loss: 0.4880 - accuracy: 0.7852\n",
            "Epoch 24/150\n",
            "50/50 [==============================] - 0s 2ms/step - loss: 0.4731 - accuracy: 0.7672\n",
            "Epoch 25/150\n",
            "50/50 [==============================] - 0s 2ms/step - loss: 0.4761 - accuracy: 0.7750\n",
            "Epoch 26/150\n",
            "50/50 [==============================] - 0s 2ms/step - loss: 0.4653 - accuracy: 0.7773\n",
            "Epoch 27/150\n",
            "50/50 [==============================] - 0s 2ms/step - loss: 0.4661 - accuracy: 0.7840\n",
            "Epoch 28/150\n",
            "50/50 [==============================] - 0s 2ms/step - loss: 0.4634 - accuracy: 0.7942\n",
            "Epoch 29/150\n",
            "50/50 [==============================] - 0s 2ms/step - loss: 0.4542 - accuracy: 0.7987\n",
            "Epoch 30/150\n",
            "50/50 [==============================] - 0s 2ms/step - loss: 0.4511 - accuracy: 0.8076\n",
            "Epoch 31/150\n",
            "50/50 [==============================] - 0s 2ms/step - loss: 0.4646 - accuracy: 0.7885\n",
            "Epoch 32/150\n",
            "50/50 [==============================] - 0s 2ms/step - loss: 0.4537 - accuracy: 0.8054\n",
            "Epoch 33/150\n",
            "50/50 [==============================] - 0s 2ms/step - loss: 0.4492 - accuracy: 0.7964\n",
            "Epoch 34/150\n",
            "50/50 [==============================] - 0s 2ms/step - loss: 0.4472 - accuracy: 0.8076\n",
            "Epoch 35/150\n",
            "50/50 [==============================] - 0s 2ms/step - loss: 0.4407 - accuracy: 0.8088\n",
            "Epoch 36/150\n",
            "50/50 [==============================] - 0s 2ms/step - loss: 0.4372 - accuracy: 0.8121\n",
            "Epoch 37/150\n",
            "50/50 [==============================] - 0s 2ms/step - loss: 0.4447 - accuracy: 0.8155\n",
            "Epoch 38/150\n",
            "50/50 [==============================] - 0s 2ms/step - loss: 0.4423 - accuracy: 0.8088\n",
            "Epoch 39/150\n",
            "50/50 [==============================] - 0s 2ms/step - loss: 0.4367 - accuracy: 0.8020\n",
            "Epoch 40/150\n",
            "50/50 [==============================] - 0s 2ms/step - loss: 0.4353 - accuracy: 0.7998\n",
            "Epoch 41/150\n",
            "50/50 [==============================] - 0s 2ms/step - loss: 0.4292 - accuracy: 0.8121\n",
            "Epoch 42/150\n",
            "50/50 [==============================] - 0s 2ms/step - loss: 0.4308 - accuracy: 0.8065\n",
            "Epoch 43/150\n",
            "50/50 [==============================] - 0s 2ms/step - loss: 0.4306 - accuracy: 0.8099\n",
            "Epoch 44/150\n",
            "50/50 [==============================] - 0s 2ms/step - loss: 0.4273 - accuracy: 0.8099\n",
            "Epoch 45/150\n",
            "50/50 [==============================] - 0s 2ms/step - loss: 0.4352 - accuracy: 0.8166\n",
            "Epoch 46/150\n",
            "50/50 [==============================] - 0s 2ms/step - loss: 0.4365 - accuracy: 0.8076\n",
            "Epoch 47/150\n",
            "50/50 [==============================] - 0s 2ms/step - loss: 0.4287 - accuracy: 0.8121\n",
            "Epoch 48/150\n",
            "50/50 [==============================] - 0s 2ms/step - loss: 0.4345 - accuracy: 0.7998\n",
            "Epoch 49/150\n",
            "50/50 [==============================] - 0s 2ms/step - loss: 0.4280 - accuracy: 0.8144\n",
            "Epoch 50/150\n",
            "50/50 [==============================] - 0s 2ms/step - loss: 0.4277 - accuracy: 0.8054\n",
            "Epoch 51/150\n",
            "50/50 [==============================] - 0s 2ms/step - loss: 0.4243 - accuracy: 0.8155\n",
            "Epoch 52/150\n",
            "50/50 [==============================] - 0s 2ms/step - loss: 0.4345 - accuracy: 0.8088\n",
            "Epoch 53/150\n",
            "50/50 [==============================] - 0s 2ms/step - loss: 0.4346 - accuracy: 0.8065\n",
            "Epoch 54/150\n",
            "50/50 [==============================] - 0s 2ms/step - loss: 0.4239 - accuracy: 0.8133\n",
            "Epoch 55/150\n",
            "50/50 [==============================] - 0s 2ms/step - loss: 0.4252 - accuracy: 0.8121\n",
            "Epoch 56/150\n",
            "50/50 [==============================] - 0s 2ms/step - loss: 0.4323 - accuracy: 0.8020\n",
            "Epoch 57/150\n",
            "50/50 [==============================] - 0s 2ms/step - loss: 0.4190 - accuracy: 0.8189\n",
            "Epoch 58/150\n",
            "50/50 [==============================] - 0s 2ms/step - loss: 0.4290 - accuracy: 0.8020\n",
            "Epoch 59/150\n",
            "50/50 [==============================] - 0s 2ms/step - loss: 0.4201 - accuracy: 0.8110\n",
            "Epoch 60/150\n",
            "50/50 [==============================] - 0s 2ms/step - loss: 0.4221 - accuracy: 0.8076\n",
            "Epoch 61/150\n",
            "50/50 [==============================] - 0s 2ms/step - loss: 0.4328 - accuracy: 0.8088\n",
            "Epoch 62/150\n",
            "50/50 [==============================] - 0s 2ms/step - loss: 0.4233 - accuracy: 0.8200\n",
            "Epoch 63/150\n",
            "50/50 [==============================] - 0s 2ms/step - loss: 0.4266 - accuracy: 0.8110\n",
            "Epoch 64/150\n",
            "50/50 [==============================] - 0s 2ms/step - loss: 0.4276 - accuracy: 0.8133\n",
            "Epoch 65/150\n",
            "50/50 [==============================] - 0s 2ms/step - loss: 0.4304 - accuracy: 0.8110\n",
            "Epoch 66/150\n",
            "50/50 [==============================] - 0s 2ms/step - loss: 0.4334 - accuracy: 0.8088\n",
            "Epoch 67/150\n",
            "50/50 [==============================] - 0s 3ms/step - loss: 0.4297 - accuracy: 0.8099\n",
            "Epoch 68/150\n",
            "50/50 [==============================] - 0s 2ms/step - loss: 0.4195 - accuracy: 0.8223\n",
            "Epoch 69/150\n",
            "50/50 [==============================] - 0s 2ms/step - loss: 0.4157 - accuracy: 0.8155\n",
            "Epoch 70/150\n",
            "50/50 [==============================] - 0s 2ms/step - loss: 0.4215 - accuracy: 0.8099\n",
            "Epoch 71/150\n",
            "50/50 [==============================] - 0s 3ms/step - loss: 0.4242 - accuracy: 0.8133\n",
            "Epoch 72/150\n",
            "50/50 [==============================] - 0s 2ms/step - loss: 0.4340 - accuracy: 0.8054\n",
            "Epoch 73/150\n",
            "50/50 [==============================] - 0s 2ms/step - loss: 0.4210 - accuracy: 0.8189\n",
            "Epoch 74/150\n",
            "50/50 [==============================] - 0s 2ms/step - loss: 0.4178 - accuracy: 0.8178\n",
            "Epoch 75/150\n",
            "50/50 [==============================] - 0s 2ms/step - loss: 0.4153 - accuracy: 0.8178\n",
            "Epoch 76/150\n",
            "50/50 [==============================] - 0s 2ms/step - loss: 0.4090 - accuracy: 0.8189\n",
            "Epoch 77/150\n",
            "50/50 [==============================] - 0s 2ms/step - loss: 0.4187 - accuracy: 0.8133\n",
            "Epoch 78/150\n",
            "50/50 [==============================] - 0s 2ms/step - loss: 0.4138 - accuracy: 0.8245\n",
            "Epoch 79/150\n",
            "50/50 [==============================] - 0s 2ms/step - loss: 0.4170 - accuracy: 0.8155\n",
            "Epoch 80/150\n",
            "50/50 [==============================] - 0s 2ms/step - loss: 0.4171 - accuracy: 0.8099\n",
            "Epoch 81/150\n",
            "50/50 [==============================] - 0s 2ms/step - loss: 0.4168 - accuracy: 0.8211\n",
            "Epoch 82/150\n",
            "50/50 [==============================] - 0s 2ms/step - loss: 0.4189 - accuracy: 0.8121\n",
            "Epoch 83/150\n",
            "50/50 [==============================] - 0s 3ms/step - loss: 0.4122 - accuracy: 0.8223\n",
            "Epoch 84/150\n",
            "50/50 [==============================] - 0s 3ms/step - loss: 0.4268 - accuracy: 0.8020\n",
            "Epoch 85/150\n",
            "50/50 [==============================] - 0s 2ms/step - loss: 0.4159 - accuracy: 0.8189\n",
            "Epoch 86/150\n",
            "50/50 [==============================] - 0s 2ms/step - loss: 0.4204 - accuracy: 0.8110\n",
            "Epoch 87/150\n",
            "50/50 [==============================] - 0s 2ms/step - loss: 0.4083 - accuracy: 0.8144\n",
            "Epoch 88/150\n",
            "50/50 [==============================] - 0s 2ms/step - loss: 0.4174 - accuracy: 0.8211\n",
            "Epoch 89/150\n",
            "50/50 [==============================] - 0s 2ms/step - loss: 0.4131 - accuracy: 0.8178\n",
            "Epoch 90/150\n",
            "50/50 [==============================] - 0s 2ms/step - loss: 0.4244 - accuracy: 0.8155\n",
            "Epoch 91/150\n",
            "50/50 [==============================] - 0s 2ms/step - loss: 0.4159 - accuracy: 0.8256\n",
            "Epoch 92/150\n",
            "50/50 [==============================] - 0s 2ms/step - loss: 0.4093 - accuracy: 0.8189\n",
            "Epoch 93/150\n",
            "50/50 [==============================] - 0s 2ms/step - loss: 0.4127 - accuracy: 0.8200\n",
            "Epoch 94/150\n",
            "50/50 [==============================] - 0s 2ms/step - loss: 0.4060 - accuracy: 0.8189\n",
            "Epoch 95/150\n",
            "50/50 [==============================] - 0s 2ms/step - loss: 0.4132 - accuracy: 0.8189\n",
            "Epoch 96/150\n",
            "50/50 [==============================] - 0s 2ms/step - loss: 0.4211 - accuracy: 0.8133\n",
            "Epoch 97/150\n",
            "50/50 [==============================] - 0s 2ms/step - loss: 0.4271 - accuracy: 0.8076\n",
            "Epoch 98/150\n",
            "50/50 [==============================] - 0s 2ms/step - loss: 0.4222 - accuracy: 0.8178\n",
            "Epoch 99/150\n",
            "50/50 [==============================] - 0s 2ms/step - loss: 0.4122 - accuracy: 0.8166\n",
            "Epoch 100/150\n",
            "50/50 [==============================] - 0s 2ms/step - loss: 0.4086 - accuracy: 0.8200\n",
            "Epoch 101/150\n",
            "50/50 [==============================] - 0s 2ms/step - loss: 0.4209 - accuracy: 0.8144\n",
            "Epoch 102/150\n",
            "50/50 [==============================] - 0s 2ms/step - loss: 0.4221 - accuracy: 0.8166\n",
            "Epoch 103/150\n",
            "50/50 [==============================] - 0s 2ms/step - loss: 0.4081 - accuracy: 0.8223\n",
            "Epoch 104/150\n",
            "50/50 [==============================] - 0s 2ms/step - loss: 0.4072 - accuracy: 0.8234\n",
            "Epoch 105/150\n",
            "50/50 [==============================] - 0s 2ms/step - loss: 0.4055 - accuracy: 0.8234\n",
            "Epoch 106/150\n",
            "50/50 [==============================] - 0s 2ms/step - loss: 0.4060 - accuracy: 0.8211\n",
            "Epoch 107/150\n",
            "50/50 [==============================] - 0s 2ms/step - loss: 0.4094 - accuracy: 0.8166\n",
            "Epoch 108/150\n",
            "50/50 [==============================] - 0s 2ms/step - loss: 0.4052 - accuracy: 0.8268\n",
            "Epoch 109/150\n",
            "50/50 [==============================] - 0s 2ms/step - loss: 0.4161 - accuracy: 0.8110\n",
            "Epoch 110/150\n",
            "50/50 [==============================] - 0s 2ms/step - loss: 0.4098 - accuracy: 0.8133\n",
            "Epoch 111/150\n",
            "50/50 [==============================] - 0s 2ms/step - loss: 0.4102 - accuracy: 0.8223\n",
            "Epoch 112/150\n",
            "50/50 [==============================] - 0s 2ms/step - loss: 0.4033 - accuracy: 0.8189\n",
            "Epoch 113/150\n",
            "50/50 [==============================] - 0s 2ms/step - loss: 0.4072 - accuracy: 0.8223\n",
            "Epoch 114/150\n",
            "50/50 [==============================] - 0s 2ms/step - loss: 0.4199 - accuracy: 0.8110\n",
            "Epoch 115/150\n",
            "50/50 [==============================] - 0s 2ms/step - loss: 0.4079 - accuracy: 0.8144\n",
            "Epoch 116/150\n",
            "50/50 [==============================] - 0s 2ms/step - loss: 0.4020 - accuracy: 0.8301\n",
            "Epoch 117/150\n",
            "50/50 [==============================] - 0s 2ms/step - loss: 0.4088 - accuracy: 0.8144\n",
            "Epoch 118/150\n",
            "50/50 [==============================] - 0s 2ms/step - loss: 0.4109 - accuracy: 0.8178\n",
            "Epoch 119/150\n",
            "50/50 [==============================] - 0s 2ms/step - loss: 0.4137 - accuracy: 0.8200\n",
            "Epoch 120/150\n",
            "50/50 [==============================] - 0s 2ms/step - loss: 0.4234 - accuracy: 0.8166\n",
            "Epoch 121/150\n",
            "50/50 [==============================] - 0s 2ms/step - loss: 0.4100 - accuracy: 0.8133\n",
            "Epoch 122/150\n",
            "50/50 [==============================] - 0s 2ms/step - loss: 0.4012 - accuracy: 0.8245\n",
            "Epoch 123/150\n",
            "50/50 [==============================] - 0s 2ms/step - loss: 0.4043 - accuracy: 0.8166\n",
            "Epoch 124/150\n",
            "50/50 [==============================] - 0s 2ms/step - loss: 0.4054 - accuracy: 0.8211\n",
            "Epoch 125/150\n",
            "50/50 [==============================] - 0s 2ms/step - loss: 0.4025 - accuracy: 0.8211\n",
            "Epoch 126/150\n",
            "50/50 [==============================] - 0s 2ms/step - loss: 0.4028 - accuracy: 0.8211\n",
            "Epoch 127/150\n",
            "50/50 [==============================] - 0s 2ms/step - loss: 0.4176 - accuracy: 0.8144\n",
            "Epoch 128/150\n",
            "50/50 [==============================] - 0s 2ms/step - loss: 0.4117 - accuracy: 0.8211\n",
            "Epoch 129/150\n",
            "50/50 [==============================] - 0s 2ms/step - loss: 0.4009 - accuracy: 0.8211\n",
            "Epoch 130/150\n",
            "50/50 [==============================] - 0s 2ms/step - loss: 0.4085 - accuracy: 0.8178\n",
            "Epoch 131/150\n",
            "50/50 [==============================] - 0s 2ms/step - loss: 0.3996 - accuracy: 0.8268\n",
            "Epoch 132/150\n",
            "50/50 [==============================] - 0s 2ms/step - loss: 0.4047 - accuracy: 0.8155\n",
            "Epoch 133/150\n",
            "50/50 [==============================] - 0s 2ms/step - loss: 0.4092 - accuracy: 0.8200\n",
            "Epoch 134/150\n",
            "50/50 [==============================] - 0s 2ms/step - loss: 0.4001 - accuracy: 0.8245\n",
            "Epoch 135/150\n",
            "50/50 [==============================] - 0s 2ms/step - loss: 0.3998 - accuracy: 0.8268\n",
            "Epoch 136/150\n",
            "50/50 [==============================] - 0s 2ms/step - loss: 0.4001 - accuracy: 0.8211\n",
            "Epoch 137/150\n",
            "50/50 [==============================] - 0s 2ms/step - loss: 0.4018 - accuracy: 0.8166\n",
            "Epoch 138/150\n",
            "50/50 [==============================] - 0s 2ms/step - loss: 0.4032 - accuracy: 0.8200\n",
            "Epoch 139/150\n",
            "50/50 [==============================] - 0s 3ms/step - loss: 0.3994 - accuracy: 0.8189\n",
            "Epoch 140/150\n",
            "50/50 [==============================] - 0s 2ms/step - loss: 0.4061 - accuracy: 0.8234\n",
            "Epoch 141/150\n",
            "50/50 [==============================] - 0s 3ms/step - loss: 0.4060 - accuracy: 0.8245\n",
            "Epoch 142/150\n",
            "50/50 [==============================] - 0s 2ms/step - loss: 0.4047 - accuracy: 0.8234\n",
            "Epoch 143/150\n",
            "50/50 [==============================] - 0s 3ms/step - loss: 0.4273 - accuracy: 0.8234\n",
            "Epoch 144/150\n",
            "50/50 [==============================] - 0s 2ms/step - loss: 0.4122 - accuracy: 0.8144\n",
            "Epoch 145/150\n",
            "50/50 [==============================] - 0s 2ms/step - loss: 0.4042 - accuracy: 0.8166\n",
            "Epoch 146/150\n",
            "50/50 [==============================] - 0s 2ms/step - loss: 0.3974 - accuracy: 0.8268\n",
            "Epoch 147/150\n",
            "50/50 [==============================] - 0s 2ms/step - loss: 0.4074 - accuracy: 0.8166\n",
            "Epoch 148/150\n",
            "50/50 [==============================] - 0s 3ms/step - loss: 0.4161 - accuracy: 0.8133\n",
            "Epoch 149/150\n",
            "50/50 [==============================] - 0s 2ms/step - loss: 0.4010 - accuracy: 0.8200\n",
            "Epoch 150/150\n",
            "50/50 [==============================] - 0s 2ms/step - loss: 0.4052 - accuracy: 0.8155\n",
            "0:00:19.135230\n"
          ]
        }
      ]
    },
    {
      "cell_type": "code",
      "source": [],
      "metadata": {
        "id": "q6ypXTRQrYGd"
      },
      "execution_count": null,
      "outputs": []
    }
  ]
}